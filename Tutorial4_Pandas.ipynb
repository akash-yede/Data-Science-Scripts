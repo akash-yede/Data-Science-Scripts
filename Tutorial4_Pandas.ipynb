{
 "cells": [
  {
   "cell_type": "markdown",
   "metadata": {},
   "source": [
    "# Pandas"
   ]
  },
  {
   "cell_type": "markdown",
   "metadata": {},
   "source": [
    "After covering the concepts of Numpy and Scipy, we can now go ahead with learning about Pandas, which is another open-source Python library built on top of Numpy. This tutorial has been designed for anyone who wants to learn Pandas basics and functions and people working on data cleansing and analysis.\n",
    "\n",
    "This tutorial on Pandas covers the following topics:\n",
    "\n",
    "1. The Pandas library\n",
    "2. Series\n",
    "3. DataFrames\n",
    "4. Missing Data\n",
    "5. Concatenating\n",
    "6. Pandas visualization"
   ]
  },
  {
   "cell_type": "markdown",
   "metadata": {},
   "source": [
    "### 1) The Pandas Library\n",
    "\n",
    "The Pandas library is an open-source library built on top  of Numpy. \n",
    "It allows fast analysis and data cleaning and excels in performance and productivity. \n",
    "It has built-in data visualization features.\n",
    "\n",
    "You'll need to install Pandas by typing any of the following commands in your command line or terminal:\n",
    "\n",
    "                                              conda install pandas\n",
    "                                               pip install pandas\n",
    "\n",
    "Data analysis in Pandas  works with:\n",
    "1. Series\n",
    "2. DataFrame\n",
    "\n",
    "To use the pandas library, we have to import numpy and pandas by aliasing them as follows:\n",
    "\n",
    "                                              import numpy as np\n",
    "                                              import pandas as pd"
   ]
  },
  {
   "cell_type": "markdown",
   "metadata": {},
   "source": [
    "***"
   ]
  },
  {
   "cell_type": "markdown",
   "metadata": {},
   "source": [
    "### 2) Series\n",
    "\n",
    "A series is very simialar to a Numpy array. It can be acessed by labels, which makes it different from Numpy arrays. It is a one-dimensional indexed array which can hold data of any type. \n",
    "\n",
    "We can create series using various inputs like:\n",
    "1. Array\n",
    "2. Dict\n",
    "3. Scalar value"
   ]
  },
  {
   "cell_type": "markdown",
   "metadata": {},
   "source": [
    "#### a. Creating a series\n",
    "We will use the above three types of inputs to create a series. We will import the pandas library aliasing as pd. We will be using a list, array and a dictionary to create a series. Here, we start by importing numpy and pandas in our code. We are also printing the lists, dict and array here."
   ]
  },
  {
   "cell_type": "code",
   "execution_count": 3,
   "metadata": {},
   "outputs": [
    {
     "name": "stdout",
     "output_type": "stream",
     "text": [
      "['mango', 'cherry', 'orange', 'apple']\n",
      "[10, 6, 9, 11]\n",
      "[10  6  9 11]\n",
      "{'mango': 10, 'cherry': 6, 'orange': 9, 'apple': 11}\n"
     ]
    }
   ],
   "source": [
    "import numpy as np\n",
    "import pandas as pd\n",
    "fruits = ['mango', 'cherry', 'orange','apple']\n",
    "quantity = [10,6,9,11]\n",
    "arr = np.array(quantity)\n",
    "dict_fruits = {'mango':10, 'cherry':6, 'orange':9, 'apple':11}\n",
    "print(fruits)\n",
    "print(quantity)\n",
    "print(arr)\n",
    "print(dict_fruits)"
   ]
  },
  {
   "cell_type": "markdown",
   "metadata": {},
   "source": [
    "#### (i) Creating a series using a list of numbers\n",
    "Let us call the Series function using pd.Series and use the input as quantity, which is a list. After executing the below line, we get a Series of quantities along with the index. Note that indexing starts from 0. These indexes are created by default by pandas. We also get the datatype of the Series which is int64 in this case. "
   ]
  },
  {
   "cell_type": "code",
   "execution_count": 4,
   "metadata": {},
   "outputs": [
    {
     "data": {
      "text/plain": [
       "0    10\n",
       "1     6\n",
       "2     9\n",
       "3    11\n",
       "dtype: int64"
      ]
     },
     "execution_count": 4,
     "metadata": {},
     "output_type": "execute_result"
    }
   ],
   "source": [
    "pd.Series(data = quantity)"
   ]
  },
  {
   "cell_type": "markdown",
   "metadata": {},
   "source": [
    "#### (ii) Creating a series using a list of numbers and adding a custom index\n",
    "We can also use custom index instead of the default indexes set by pandas. Let us use the fruits as indexes in this  case. After executing the below code, we will get a series of quantity and fruits being at the index position. In pd.Series we can add the desired index as the parameter using as comma."
   ]
  },
  {
   "cell_type": "code",
   "execution_count": 5,
   "metadata": {},
   "outputs": [
    {
     "data": {
      "text/plain": [
       "mango     10\n",
       "cherry     6\n",
       "orange     9\n",
       "apple     11\n",
       "dtype: int64"
      ]
     },
     "execution_count": 5,
     "metadata": {},
     "output_type": "execute_result"
    }
   ],
   "source": [
    "pd.Series(data=quantity, index=fruits)"
   ]
  },
  {
   "cell_type": "markdown",
   "metadata": {},
   "source": [
    "#### (iii) Creating a series using a numpy array\n",
    "We can also create a series using a numpy array. In our case, we will pass arr to create a series. We will again get the Series of quantities and its datatype being int32. A numpy array works similar to a python list."
   ]
  },
  {
   "cell_type": "code",
   "execution_count": 6,
   "metadata": {},
   "outputs": [
    {
     "data": {
      "text/plain": [
       "0    10\n",
       "1     6\n",
       "2     9\n",
       "3    11\n",
       "dtype: int32"
      ]
     },
     "execution_count": 6,
     "metadata": {},
     "output_type": "execute_result"
    }
   ],
   "source": [
    "pd.Series(arr)"
   ]
  },
  {
   "cell_type": "markdown",
   "metadata": {},
   "source": [
    "#### (iv) Creating a series using a dictionary\n",
    "We can also create a series using a dictionary. Here, we will get the keys of the dictionary as the index of the series and its datatype as int64."
   ]
  },
  {
   "cell_type": "code",
   "execution_count": 7,
   "metadata": {},
   "outputs": [
    {
     "data": {
      "text/plain": [
       "mango     10\n",
       "cherry     6\n",
       "orange     9\n",
       "apple     11\n",
       "dtype: int64"
      ]
     },
     "execution_count": 7,
     "metadata": {},
     "output_type": "execute_result"
    }
   ],
   "source": [
    "pd.Series(dict_fruits)"
   ]
  },
  {
   "cell_type": "markdown",
   "metadata": {},
   "source": [
    "#### (v) Creating a series using a list of objects\n",
    "A pandas series can almost hold any type of data object. Let us create a series of fruits here, which we used as labels in the earlier examples. Here, we get a series of fruits along with their default index positions and its datatype as object."
   ]
  },
  {
   "cell_type": "code",
   "execution_count": 8,
   "metadata": {},
   "outputs": [
    {
     "data": {
      "text/plain": [
       "0     mango\n",
       "1    cherry\n",
       "2    orange\n",
       "3     apple\n",
       "dtype: object"
      ]
     },
     "execution_count": 8,
     "metadata": {},
     "output_type": "execute_result"
    }
   ],
   "source": [
    "pd.Series(fruits)"
   ]
  },
  {
   "cell_type": "markdown",
   "metadata": {},
   "source": [
    "#### (vi) Indexing on series\n",
    "The key to using a pandas series is actually understanding its index. Pandas uses this index to provide very fast look up of information and it works just like a hash table or a dictionary. Let us see examples of how we can grab information from a series."
   ]
  },
  {
   "cell_type": "markdown",
   "metadata": {},
   "source": [
    "Let us create two series. In both the series, the countries are the index and the numbers are the data points. Here, we get the datatype of the series as int64 because the data points are all integers. "
   ]
  },
  {
   "cell_type": "code",
   "execution_count": 22,
   "metadata": {},
   "outputs": [
    {
     "name": "stdout",
     "output_type": "stream",
     "text": [
      "USA        1\n",
      "Germany    2\n",
      "France     3\n",
      "India      4\n",
      "dtype: int64\n"
     ]
    }
   ],
   "source": [
    "ser_1 = pd.Series([1,2,3,4],['USA','Germany','France','India'])\n",
    "print(ser_1)"
   ]
  },
  {
   "cell_type": "code",
   "execution_count": 23,
   "metadata": {},
   "outputs": [
    {
     "name": "stdout",
     "output_type": "stream",
     "text": [
      "USA        1\n",
      "Germany    2\n",
      "Japan      5\n",
      "India      4\n",
      "dtype: int64\n"
     ]
    }
   ],
   "source": [
    "ser_2 = pd.Series([1,2,5,4],['USA','Germany','Japan','India'])\n",
    "print(ser_2)"
   ]
  },
  {
   "cell_type": "markdown",
   "metadata": {},
   "source": [
    "The basic use of index is to grab information from the series. If we want to grab the value associated with USA from ser_1, it works similar to iterating in a dictionary."
   ]
  },
  {
   "cell_type": "code",
   "execution_count": 24,
   "metadata": {},
   "outputs": [
    {
     "data": {
      "text/plain": [
       "1"
      ]
     },
     "execution_count": 24,
     "metadata": {},
     "output_type": "execute_result"
    }
   ],
   "source": [
    "ser_1['USA']"
   ]
  },
  {
   "cell_type": "code",
   "execution_count": 25,
   "metadata": {},
   "outputs": [
    {
     "data": {
      "text/plain": [
       "5"
      ]
     },
     "execution_count": 25,
     "metadata": {},
     "output_type": "execute_result"
    }
   ],
   "source": [
    "ser_2['Japan']"
   ]
  },
  {
   "cell_type": "markdown",
   "metadata": {},
   "source": [
    "#### (vii) Operations on series\n",
    "We can add both the series, ser_1 and ser_2. It will try to match both the series with their index positions before performing the addition operation on them. \n",
    "\n",
    "After executing the below code, we will see that USA, Germany and India lies in both the series and their data points is 1, 2 and 4 in each of them. These data points will get added up to 2, 4 and 8 respectively for the three countries. For France and Japan, it doesn't find a match in both the series, so they will be associated with the NaN object, meaning the addition operation could not be performed on them."
   ]
  },
  {
   "cell_type": "code",
   "execution_count": 26,
   "metadata": {},
   "outputs": [
    {
     "data": {
      "text/plain": [
       "France     NaN\n",
       "Germany    4.0\n",
       "India      8.0\n",
       "Japan      NaN\n",
       "USA        2.0\n",
       "dtype: float64"
      ]
     },
     "execution_count": 26,
     "metadata": {},
     "output_type": "execute_result"
    }
   ],
   "source": [
    "ser_1+ser_2"
   ]
  },
  {
   "cell_type": "markdown",
   "metadata": {},
   "source": [
    "When you perform any operations on pandas series or any numpy or pandas based objects, your integers are converted into floats. And that is the reason, you don't accidentally lose information after a complex division operation. Let us start learning DataFrames as we need the basics of series to understand how they work."
   ]
  },
  {
   "cell_type": "markdown",
   "metadata": {},
   "source": [
    "***"
   ]
  },
  {
   "cell_type": "markdown",
   "metadata": {},
   "source": [
    "### 3) DataFrames\n",
    "\n",
    "A DataFrame is a two dimensional data structure consisting of data aligned in a tabular form in rows and columns. Its size is changable and can perform arithematic operations on rows and columns.\n",
    "We can create dataframes using various inputs like dicts, series, lists, numpy arrays another dataframe or we can also import it from a csv format. "
   ]
  },
  {
   "cell_type": "markdown",
   "metadata": {},
   "source": [
    "#### (i) Creating a dataframe using python objects.\n",
    "\n",
    "Here, we create a dataframe using dictionaries. Let us create a dataframe of marks students have secured in 4 courses. Further, we will use the four dictionaries to create a dataframe of marks."
   ]
  },
  {
   "cell_type": "code",
   "execution_count": 28,
   "metadata": {},
   "outputs": [
    {
     "name": "stdout",
     "output_type": "stream",
     "text": [
      "        Data Structures  Business Forecasting  Intro to DS  Project Management\n",
      "Abby                  9                    10           10                   9\n",
      "Akash                10                    10            9                   9\n",
      "Harsh                10                    10            9                  10\n",
      "Nimish                9                     9           10                  10\n",
      "Pranav               10                    10            8                   9\n",
      "Sujay                 7                    10            8                   9\n"
     ]
    }
   ],
   "source": [
    "dict_DS = {'Akash':10, 'Abby':9, 'Sujay':7, 'Nimish':9, 'Pranav':10, 'Harsh':10}\n",
    "dict_BF = {'Akash':10, 'Abby':10, 'Sujay':10, 'Nimish':9, 'Pranav':10, 'Harsh':10}\n",
    "dict_IDS = {'Akash':9, 'Abby':10, 'Sujay':8, 'Nimish':10, 'Pranav':8, 'Harsh':9}\n",
    "dict_PM = {'Akash':9, 'Abby':9, 'Sujay':9, 'Nimish':10, 'Pranav':9, 'Harsh':10}\n",
    "# Defining data with the above dictionaries.\n",
    "Data = {'Data Structures':dict_DS,'Business Forecasting':dict_BF,'Intro to DS':dict_IDS,'Project Management':dict_PM}\n",
    "#Creating the DataFrame using Data as input\n",
    "df_marks = pd.DataFrame(Data)\n",
    "print(df_marks)"
   ]
  },
  {
   "cell_type": "markdown",
   "metadata": {},
   "source": [
    "#### (ii) Creating a dataframe by importing a csv file.\n",
    "The pd.read_csv() method is used to import a csv file. We are using a random list of 25 people who were on the Titanic. We loaded the csv in Jupyter Notebook and used the function to read through it."
   ]
  },
  {
   "cell_type": "code",
   "execution_count": 39,
   "metadata": {},
   "outputs": [
    {
     "data": {
      "text/html": [
       "<div>\n",
       "<style scoped>\n",
       "    .dataframe tbody tr th:only-of-type {\n",
       "        vertical-align: middle;\n",
       "    }\n",
       "\n",
       "    .dataframe tbody tr th {\n",
       "        vertical-align: top;\n",
       "    }\n",
       "\n",
       "    .dataframe thead th {\n",
       "        text-align: right;\n",
       "    }\n",
       "</style>\n",
       "<table border=\"1\" class=\"dataframe\">\n",
       "  <thead>\n",
       "    <tr style=\"text-align: right;\">\n",
       "      <th></th>\n",
       "      <th>Ticket no</th>\n",
       "      <th>Survived</th>\n",
       "      <th>Pclass</th>\n",
       "      <th>Name</th>\n",
       "      <th>Sex</th>\n",
       "      <th>Age</th>\n",
       "      <th>Siblings/Spouses Aboard</th>\n",
       "      <th>Parents/Children Aboard</th>\n",
       "      <th>Fare</th>\n",
       "    </tr>\n",
       "  </thead>\n",
       "  <tbody>\n",
       "    <tr>\n",
       "      <th>0</th>\n",
       "      <td>123543</td>\n",
       "      <td>no</td>\n",
       "      <td>3</td>\n",
       "      <td>Mr. Owen Harris Braund</td>\n",
       "      <td>male</td>\n",
       "      <td>22</td>\n",
       "      <td>1</td>\n",
       "      <td>0</td>\n",
       "      <td>7.2500</td>\n",
       "    </tr>\n",
       "    <tr>\n",
       "      <th>1</th>\n",
       "      <td>525252</td>\n",
       "      <td>yes</td>\n",
       "      <td>1</td>\n",
       "      <td>Mrs. John Bradley (Florence Briggs Thayer) Cum...</td>\n",
       "      <td>female</td>\n",
       "      <td>38</td>\n",
       "      <td>1</td>\n",
       "      <td>0</td>\n",
       "      <td>71.2833</td>\n",
       "    </tr>\n",
       "    <tr>\n",
       "      <th>2</th>\n",
       "      <td>434342</td>\n",
       "      <td>yes</td>\n",
       "      <td>3</td>\n",
       "      <td>Miss. Laina Heikkinen</td>\n",
       "      <td>female</td>\n",
       "      <td>26</td>\n",
       "      <td>0</td>\n",
       "      <td>0</td>\n",
       "      <td>7.9250</td>\n",
       "    </tr>\n",
       "    <tr>\n",
       "      <th>3</th>\n",
       "      <td>858585</td>\n",
       "      <td>yes</td>\n",
       "      <td>1</td>\n",
       "      <td>Mrs. Jacques Heath (Lily May Peel) Futrelle</td>\n",
       "      <td>female</td>\n",
       "      <td>35</td>\n",
       "      <td>1</td>\n",
       "      <td>0</td>\n",
       "      <td>53.1000</td>\n",
       "    </tr>\n",
       "    <tr>\n",
       "      <th>4</th>\n",
       "      <td>538293</td>\n",
       "      <td>no</td>\n",
       "      <td>3</td>\n",
       "      <td>Mr. William Henry Allen</td>\n",
       "      <td>male</td>\n",
       "      <td>35</td>\n",
       "      <td>0</td>\n",
       "      <td>0</td>\n",
       "      <td>8.0500</td>\n",
       "    </tr>\n",
       "    <tr>\n",
       "      <th>5</th>\n",
       "      <td>349765</td>\n",
       "      <td>no</td>\n",
       "      <td>3</td>\n",
       "      <td>Mr. James Moran</td>\n",
       "      <td>male</td>\n",
       "      <td>27</td>\n",
       "      <td>0</td>\n",
       "      <td>0</td>\n",
       "      <td>8.4583</td>\n",
       "    </tr>\n",
       "    <tr>\n",
       "      <th>6</th>\n",
       "      <td>538293</td>\n",
       "      <td>no</td>\n",
       "      <td>1</td>\n",
       "      <td>Mr. Timothy J McCarthy</td>\n",
       "      <td>male</td>\n",
       "      <td>54</td>\n",
       "      <td>0</td>\n",
       "      <td>0</td>\n",
       "      <td>51.8625</td>\n",
       "    </tr>\n",
       "    <tr>\n",
       "      <th>7</th>\n",
       "      <td>38203</td>\n",
       "      <td>no</td>\n",
       "      <td>3</td>\n",
       "      <td>Master. Gosta Leonard Palsson</td>\n",
       "      <td>male</td>\n",
       "      <td>2</td>\n",
       "      <td>3</td>\n",
       "      <td>1</td>\n",
       "      <td>21.0750</td>\n",
       "    </tr>\n",
       "    <tr>\n",
       "      <th>8</th>\n",
       "      <td>777484</td>\n",
       "      <td>yes</td>\n",
       "      <td>3</td>\n",
       "      <td>Mrs. Oscar W (Elisabeth Vilhelmina Berg) Johnson</td>\n",
       "      <td>female</td>\n",
       "      <td>27</td>\n",
       "      <td>0</td>\n",
       "      <td>2</td>\n",
       "      <td>11.1333</td>\n",
       "    </tr>\n",
       "    <tr>\n",
       "      <th>9</th>\n",
       "      <td>687394</td>\n",
       "      <td>yes</td>\n",
       "      <td>2</td>\n",
       "      <td>Mrs. Nicholas (Adele Achem) Nasser</td>\n",
       "      <td>female</td>\n",
       "      <td>14</td>\n",
       "      <td>1</td>\n",
       "      <td>0</td>\n",
       "      <td>30.0708</td>\n",
       "    </tr>\n",
       "    <tr>\n",
       "      <th>10</th>\n",
       "      <td>876348</td>\n",
       "      <td>yes</td>\n",
       "      <td>3</td>\n",
       "      <td>Miss. Marguerite Rut Sandstrom</td>\n",
       "      <td>female</td>\n",
       "      <td>4</td>\n",
       "      <td>1</td>\n",
       "      <td>1</td>\n",
       "      <td>16.7000</td>\n",
       "    </tr>\n",
       "    <tr>\n",
       "      <th>11</th>\n",
       "      <td>827364</td>\n",
       "      <td>yes</td>\n",
       "      <td>1</td>\n",
       "      <td>Miss. Elizabeth Bonnell</td>\n",
       "      <td>female</td>\n",
       "      <td>58</td>\n",
       "      <td>0</td>\n",
       "      <td>0</td>\n",
       "      <td>26.5500</td>\n",
       "    </tr>\n",
       "    <tr>\n",
       "      <th>12</th>\n",
       "      <td>263486</td>\n",
       "      <td>no</td>\n",
       "      <td>3</td>\n",
       "      <td>Mr. William Henry Saundercock</td>\n",
       "      <td>male</td>\n",
       "      <td>20</td>\n",
       "      <td>0</td>\n",
       "      <td>0</td>\n",
       "      <td>8.0500</td>\n",
       "    </tr>\n",
       "    <tr>\n",
       "      <th>13</th>\n",
       "      <td>628342</td>\n",
       "      <td>no</td>\n",
       "      <td>3</td>\n",
       "      <td>Mr. Anders Johan Andersson</td>\n",
       "      <td>male</td>\n",
       "      <td>39</td>\n",
       "      <td>1</td>\n",
       "      <td>5</td>\n",
       "      <td>31.2750</td>\n",
       "    </tr>\n",
       "    <tr>\n",
       "      <th>14</th>\n",
       "      <td>234233</td>\n",
       "      <td>no</td>\n",
       "      <td>3</td>\n",
       "      <td>Miss. Hulda Amanda Adolfina Vestrom</td>\n",
       "      <td>female</td>\n",
       "      <td>14</td>\n",
       "      <td>0</td>\n",
       "      <td>0</td>\n",
       "      <td>7.8542</td>\n",
       "    </tr>\n",
       "    <tr>\n",
       "      <th>15</th>\n",
       "      <td>456453</td>\n",
       "      <td>yes</td>\n",
       "      <td>2</td>\n",
       "      <td>Mrs. (Mary D Kingcome) Hewlett</td>\n",
       "      <td>female</td>\n",
       "      <td>55</td>\n",
       "      <td>0</td>\n",
       "      <td>0</td>\n",
       "      <td>16.0000</td>\n",
       "    </tr>\n",
       "    <tr>\n",
       "      <th>16</th>\n",
       "      <td>123123</td>\n",
       "      <td>no</td>\n",
       "      <td>3</td>\n",
       "      <td>Master. Eugene Rice</td>\n",
       "      <td>male</td>\n",
       "      <td>2</td>\n",
       "      <td>4</td>\n",
       "      <td>1</td>\n",
       "      <td>29.1250</td>\n",
       "    </tr>\n",
       "    <tr>\n",
       "      <th>17</th>\n",
       "      <td>456443</td>\n",
       "      <td>yes</td>\n",
       "      <td>2</td>\n",
       "      <td>Mr. Charles Eugene Williams</td>\n",
       "      <td>male</td>\n",
       "      <td>23</td>\n",
       "      <td>0</td>\n",
       "      <td>0</td>\n",
       "      <td>13.0000</td>\n",
       "    </tr>\n",
       "    <tr>\n",
       "      <th>18</th>\n",
       "      <td>234223</td>\n",
       "      <td>no</td>\n",
       "      <td>3</td>\n",
       "      <td>Mrs. Julius (Emelia Maria Vandemoortele) Vande...</td>\n",
       "      <td>female</td>\n",
       "      <td>31</td>\n",
       "      <td>1</td>\n",
       "      <td>0</td>\n",
       "      <td>18.0000</td>\n",
       "    </tr>\n",
       "    <tr>\n",
       "      <th>19</th>\n",
       "      <td>242343</td>\n",
       "      <td>yes</td>\n",
       "      <td>3</td>\n",
       "      <td>Mrs. Fatima Masselmani</td>\n",
       "      <td>female</td>\n",
       "      <td>22</td>\n",
       "      <td>0</td>\n",
       "      <td>0</td>\n",
       "      <td>7.2250</td>\n",
       "    </tr>\n",
       "    <tr>\n",
       "      <th>20</th>\n",
       "      <td>363452</td>\n",
       "      <td>no</td>\n",
       "      <td>2</td>\n",
       "      <td>Mr. Joseph J Fynney</td>\n",
       "      <td>male</td>\n",
       "      <td>35</td>\n",
       "      <td>0</td>\n",
       "      <td>0</td>\n",
       "      <td>26.0000</td>\n",
       "    </tr>\n",
       "    <tr>\n",
       "      <th>21</th>\n",
       "      <td>346556</td>\n",
       "      <td>yes</td>\n",
       "      <td>2</td>\n",
       "      <td>Mr. Lawrence Beesley</td>\n",
       "      <td>male</td>\n",
       "      <td>34</td>\n",
       "      <td>0</td>\n",
       "      <td>0</td>\n",
       "      <td>13.0000</td>\n",
       "    </tr>\n",
       "    <tr>\n",
       "      <th>22</th>\n",
       "      <td>737373</td>\n",
       "      <td>yes</td>\n",
       "      <td>3</td>\n",
       "      <td>Miss. Anna McGowan</td>\n",
       "      <td>female</td>\n",
       "      <td>15</td>\n",
       "      <td>0</td>\n",
       "      <td>0</td>\n",
       "      <td>8.0292</td>\n",
       "    </tr>\n",
       "    <tr>\n",
       "      <th>23</th>\n",
       "      <td>544532</td>\n",
       "      <td>yes</td>\n",
       "      <td>1</td>\n",
       "      <td>Mr. William Thompson Sloper</td>\n",
       "      <td>male</td>\n",
       "      <td>28</td>\n",
       "      <td>0</td>\n",
       "      <td>0</td>\n",
       "      <td>35.5000</td>\n",
       "    </tr>\n",
       "    <tr>\n",
       "      <th>24</th>\n",
       "      <td>456455</td>\n",
       "      <td>no</td>\n",
       "      <td>3</td>\n",
       "      <td>Miss. Torborg Danira Palsson</td>\n",
       "      <td>female</td>\n",
       "      <td>8</td>\n",
       "      <td>3</td>\n",
       "      <td>1</td>\n",
       "      <td>21.0750</td>\n",
       "    </tr>\n",
       "  </tbody>\n",
       "</table>\n",
       "</div>"
      ],
      "text/plain": [
       "    Ticket no Survived  Pclass  \\\n",
       "0      123543       no       3   \n",
       "1      525252      yes       1   \n",
       "2      434342      yes       3   \n",
       "3      858585      yes       1   \n",
       "4      538293       no       3   \n",
       "5      349765       no       3   \n",
       "6      538293       no       1   \n",
       "7       38203       no       3   \n",
       "8      777484      yes       3   \n",
       "9      687394      yes       2   \n",
       "10     876348      yes       3   \n",
       "11     827364      yes       1   \n",
       "12     263486       no       3   \n",
       "13     628342       no       3   \n",
       "14     234233       no       3   \n",
       "15     456453      yes       2   \n",
       "16     123123       no       3   \n",
       "17     456443      yes       2   \n",
       "18     234223       no       3   \n",
       "19     242343      yes       3   \n",
       "20     363452       no       2   \n",
       "21     346556      yes       2   \n",
       "22     737373      yes       3   \n",
       "23     544532      yes       1   \n",
       "24     456455       no       3   \n",
       "\n",
       "                                                 Name     Sex  Age  \\\n",
       "0                              Mr. Owen Harris Braund    male   22   \n",
       "1   Mrs. John Bradley (Florence Briggs Thayer) Cum...  female   38   \n",
       "2                               Miss. Laina Heikkinen  female   26   \n",
       "3         Mrs. Jacques Heath (Lily May Peel) Futrelle  female   35   \n",
       "4                             Mr. William Henry Allen    male   35   \n",
       "5                                     Mr. James Moran    male   27   \n",
       "6                              Mr. Timothy J McCarthy    male   54   \n",
       "7                       Master. Gosta Leonard Palsson    male    2   \n",
       "8    Mrs. Oscar W (Elisabeth Vilhelmina Berg) Johnson  female   27   \n",
       "9                  Mrs. Nicholas (Adele Achem) Nasser  female   14   \n",
       "10                     Miss. Marguerite Rut Sandstrom  female    4   \n",
       "11                            Miss. Elizabeth Bonnell  female   58   \n",
       "12                      Mr. William Henry Saundercock    male   20   \n",
       "13                         Mr. Anders Johan Andersson    male   39   \n",
       "14                Miss. Hulda Amanda Adolfina Vestrom  female   14   \n",
       "15                     Mrs. (Mary D Kingcome) Hewlett  female   55   \n",
       "16                                Master. Eugene Rice    male    2   \n",
       "17                        Mr. Charles Eugene Williams    male   23   \n",
       "18  Mrs. Julius (Emelia Maria Vandemoortele) Vande...  female   31   \n",
       "19                             Mrs. Fatima Masselmani  female   22   \n",
       "20                                Mr. Joseph J Fynney    male   35   \n",
       "21                               Mr. Lawrence Beesley    male   34   \n",
       "22                                 Miss. Anna McGowan  female   15   \n",
       "23                        Mr. William Thompson Sloper    male   28   \n",
       "24                       Miss. Torborg Danira Palsson  female    8   \n",
       "\n",
       "    Siblings/Spouses Aboard  Parents/Children Aboard     Fare  \n",
       "0                         1                        0   7.2500  \n",
       "1                         1                        0  71.2833  \n",
       "2                         0                        0   7.9250  \n",
       "3                         1                        0  53.1000  \n",
       "4                         0                        0   8.0500  \n",
       "5                         0                        0   8.4583  \n",
       "6                         0                        0  51.8625  \n",
       "7                         3                        1  21.0750  \n",
       "8                         0                        2  11.1333  \n",
       "9                         1                        0  30.0708  \n",
       "10                        1                        1  16.7000  \n",
       "11                        0                        0  26.5500  \n",
       "12                        0                        0   8.0500  \n",
       "13                        1                        5  31.2750  \n",
       "14                        0                        0   7.8542  \n",
       "15                        0                        0  16.0000  \n",
       "16                        4                        1  29.1250  \n",
       "17                        0                        0  13.0000  \n",
       "18                        1                        0  18.0000  \n",
       "19                        0                        0   7.2250  \n",
       "20                        0                        0  26.0000  \n",
       "21                        0                        0  13.0000  \n",
       "22                        0                        0   8.0292  \n",
       "23                        0                        0  35.5000  \n",
       "24                        3                        1  21.0750  "
      ]
     },
     "execution_count": 39,
     "metadata": {},
     "output_type": "execute_result"
    }
   ],
   "source": [
    "pd.read_csv(\"Titanic_data.csv\")"
   ]
  },
  {
   "cell_type": "code",
   "execution_count": 49,
   "metadata": {},
   "outputs": [],
   "source": [
    "# Here, we are assigning a variable titanic_data to store the csv within it. This makes it easy to read through.\n",
    "titanic_data = pd.read_csv(\"Titanic_data.csv\", index_col =\"Ticket no\")"
   ]
  },
  {
   "cell_type": "markdown",
   "metadata": {},
   "source": [
    "#### (iii) Row selection\n",
    "DataFrame.loc[] method is used to retrieve rows from a dataframe. We can also use the iloc[] function to select rows by passing integer location. Let us retrieve the row with a specific ticket number."
   ]
  },
  {
   "cell_type": "code",
   "execution_count": 57,
   "metadata": {},
   "outputs": [
    {
     "name": "stdout",
     "output_type": "stream",
     "text": [
      "Survived                                                                  no\n",
      "Pclass                                                                     3\n",
      "Name                       Mrs. Julius (Emelia Maria Vandemoortele) Vande...\n",
      "Sex                                                                   female\n",
      "Age                                                                       31\n",
      "Siblings/Spouses Aboard                                                    1\n",
      "Parents/Children Aboard                                                    0\n",
      "Fare                                                                      18\n",
      "Name: 234223, dtype: object \n",
      "\n",
      "\n",
      " Survived                                             no\n",
      "Pclass                                                3\n",
      "Name                       Miss. Torborg Danira Palsson\n",
      "Sex                                              female\n",
      "Age                                                   8\n",
      "Siblings/Spouses Aboard                               3\n",
      "Parents/Children Aboard                               1\n",
      "Fare                                             21.075\n",
      "Name: 456455, dtype: object\n"
     ]
    }
   ],
   "source": [
    "row_19 = titanic_data.loc[234223]\n",
    "row_24 = titanic_data.loc[456455]\n",
    "print(row_19,\"\\n\\n\\n\",row_24)"
   ]
  },
  {
   "cell_type": "markdown",
   "metadata": {},
   "source": [
    "#### (iv) Indexing and selecting data\n",
    "We can select specific rows and columns from a dataframe. For this, we use the indexing operator []. Let us select the columnns with the Names according to their Ticket numbers. "
   ]
  },
  {
   "cell_type": "code",
   "execution_count": 59,
   "metadata": {},
   "outputs": [
    {
     "name": "stdout",
     "output_type": "stream",
     "text": [
      "Ticket no\n",
      "123543                               Mr. Owen Harris Braund\n",
      "525252    Mrs. John Bradley (Florence Briggs Thayer) Cum...\n",
      "434342                                Miss. Laina Heikkinen\n",
      "858585          Mrs. Jacques Heath (Lily May Peel) Futrelle\n",
      "538293                              Mr. William Henry Allen\n",
      "349765                                      Mr. James Moran\n",
      "538293                               Mr. Timothy J McCarthy\n",
      "38203                         Master. Gosta Leonard Palsson\n",
      "777484     Mrs. Oscar W (Elisabeth Vilhelmina Berg) Johnson\n",
      "687394                   Mrs. Nicholas (Adele Achem) Nasser\n",
      "876348                       Miss. Marguerite Rut Sandstrom\n",
      "827364                              Miss. Elizabeth Bonnell\n",
      "263486                        Mr. William Henry Saundercock\n",
      "628342                           Mr. Anders Johan Andersson\n",
      "234233                  Miss. Hulda Amanda Adolfina Vestrom\n",
      "456453                       Mrs. (Mary D Kingcome) Hewlett\n",
      "123123                                  Master. Eugene Rice\n",
      "456443                          Mr. Charles Eugene Williams\n",
      "234223    Mrs. Julius (Emelia Maria Vandemoortele) Vande...\n",
      "242343                               Mrs. Fatima Masselmani\n",
      "363452                                  Mr. Joseph J Fynney\n",
      "346556                                 Mr. Lawrence Beesley\n",
      "737373                                   Miss. Anna McGowan\n",
      "544532                          Mr. William Thompson Sloper\n",
      "456455                         Miss. Torborg Danira Palsson\n",
      "Name: Name, dtype: object\n"
     ]
    }
   ],
   "source": [
    "column_1 = titanic_data[\"Name\"]\n",
    "print(column_1)"
   ]
  },
  {
   "cell_type": "markdown",
   "metadata": {},
   "source": [
    "#### (v) Selecting a single row using iloc[]\n",
    "We can select rows using iloc[] method. This method is also useful in slicing data. Let us first use iloc[] to fetch the first row of the dataframe. Since, the index starts with 0, we are fetching the first row from the 0th index."
   ]
  },
  {
   "cell_type": "code",
   "execution_count": 62,
   "metadata": {},
   "outputs": [
    {
     "name": "stdout",
     "output_type": "stream",
     "text": [
      "Survived                                       no\n",
      "Pclass                                          3\n",
      "Name                       Mr. Owen Harris Braund\n",
      "Sex                                          male\n",
      "Age                                            22\n",
      "Siblings/Spouses Aboard                         1\n",
      "Parents/Children Aboard                         0\n",
      "Fare                                         7.25\n",
      "Name: 123543, dtype: object\n"
     ]
    }
   ],
   "source": [
    "row_iloc = titanic_data.iloc[0]\n",
    "print(row_iloc)"
   ]
  },
  {
   "cell_type": "markdown",
   "metadata": {},
   "source": [
    "#### (vi) Selecting the first 5 rows of the dataframe.\n",
    "We can slice the dataframe with the first 5 rows using the iloc[] method."
   ]
  },
  {
   "cell_type": "code",
   "execution_count": 64,
   "metadata": {},
   "outputs": [
    {
     "name": "stdout",
     "output_type": "stream",
     "text": [
      "          Survived  Pclass                                               Name  \\\n",
      "Ticket no                                                                       \n",
      "123543          no       3                             Mr. Owen Harris Braund   \n",
      "525252         yes       1  Mrs. John Bradley (Florence Briggs Thayer) Cum...   \n",
      "434342         yes       3                              Miss. Laina Heikkinen   \n",
      "858585         yes       1        Mrs. Jacques Heath (Lily May Peel) Futrelle   \n",
      "538293          no       3                            Mr. William Henry Allen   \n",
      "\n",
      "              Sex  Age  Siblings/Spouses Aboard  Parents/Children Aboard  \\\n",
      "Ticket no                                                                  \n",
      "123543       male   22                        1                        0   \n",
      "525252     female   38                        1                        0   \n",
      "434342     female   26                        0                        0   \n",
      "858585     female   35                        1                        0   \n",
      "538293       male   35                        0                        0   \n",
      "\n",
      "              Fare  \n",
      "Ticket no           \n",
      "123543      7.2500  \n",
      "525252     71.2833  \n",
      "434342      7.9250  \n",
      "858585     53.1000  \n",
      "538293      8.0500  \n"
     ]
    }
   ],
   "source": [
    "row_slice_1 = titanic_data.iloc[:5]\n",
    "print(row_slice_1)"
   ]
  },
  {
   "cell_type": "markdown",
   "metadata": {},
   "source": [
    "***"
   ]
  },
  {
   "cell_type": "markdown",
   "metadata": {},
   "source": [
    "### 4) Missing data\n",
    "When no information is provided in a cell, a scenario of Missing data ocurs. It is a critical problem to address in a real life scenario. Suppose you have a big dataset and there are missing data all over, it can give a wrong analysis. "
   ]
  },
  {
   "cell_type": "markdown",
   "metadata": {},
   "source": [
    "#### (i) isnull() and notnull()\n",
    "We can use this functions to check for null values in a dataframe. It gives the result in boolean datatype. Let us create a dictionary first and add null values using np.nan."
   ]
  },
  {
   "cell_type": "code",
   "execution_count": 66,
   "metadata": {},
   "outputs": [
    {
     "name": "stdout",
     "output_type": "stream",
     "text": [
      "        Data Structures  Business Forecasting  Intro to DS  Project Management\n",
      "Abby                9.0                   NaN         10.0                 9.0\n",
      "Akash              10.0                  10.0          9.0                 9.0\n",
      "Harsh              10.0                  10.0          9.0                10.0\n",
      "Nimish              NaN                   9.0          NaN                10.0\n",
      "Pranav             10.0                  10.0          8.0                 9.0\n",
      "Sujay               7.0                  10.0          8.0                 NaN\n"
     ]
    }
   ],
   "source": [
    "dict_DS = {'Akash':10, 'Abby':9, 'Sujay':7, 'Nimish':np.nan, 'Pranav':10, 'Harsh':10}\n",
    "dict_BF = {'Akash':10, 'Abby':np.nan, 'Sujay':10, 'Nimish':9, 'Pranav':10, 'Harsh':10}\n",
    "dict_IDS = {'Akash':9, 'Abby':10, 'Sujay':8, 'Nimish':np.nan, 'Pranav':8, 'Harsh':9}\n",
    "dict_PM = {'Akash':9, 'Abby':9, 'Sujay':np.nan, 'Nimish':10, 'Pranav':9, 'Harsh':10}\n",
    "# Defining data with the above dictionaries.\n",
    "Data = {'Data Structures':dict_DS,'Business Forecasting':dict_BF,'Intro to DS':dict_IDS,'Project Management':dict_PM}\n",
    "#Creating the DataFrame using Data as input\n",
    "df_marks = pd.DataFrame(Data)\n",
    "print(df_marks)"
   ]
  },
  {
   "cell_type": "code",
   "execution_count": 68,
   "metadata": {},
   "outputs": [
    {
     "data": {
      "text/html": [
       "<div>\n",
       "<style scoped>\n",
       "    .dataframe tbody tr th:only-of-type {\n",
       "        vertical-align: middle;\n",
       "    }\n",
       "\n",
       "    .dataframe tbody tr th {\n",
       "        vertical-align: top;\n",
       "    }\n",
       "\n",
       "    .dataframe thead th {\n",
       "        text-align: right;\n",
       "    }\n",
       "</style>\n",
       "<table border=\"1\" class=\"dataframe\">\n",
       "  <thead>\n",
       "    <tr style=\"text-align: right;\">\n",
       "      <th></th>\n",
       "      <th>Data Structures</th>\n",
       "      <th>Business Forecasting</th>\n",
       "      <th>Intro to DS</th>\n",
       "      <th>Project Management</th>\n",
       "    </tr>\n",
       "  </thead>\n",
       "  <tbody>\n",
       "    <tr>\n",
       "      <th>Abby</th>\n",
       "      <td>False</td>\n",
       "      <td>True</td>\n",
       "      <td>False</td>\n",
       "      <td>False</td>\n",
       "    </tr>\n",
       "    <tr>\n",
       "      <th>Akash</th>\n",
       "      <td>False</td>\n",
       "      <td>False</td>\n",
       "      <td>False</td>\n",
       "      <td>False</td>\n",
       "    </tr>\n",
       "    <tr>\n",
       "      <th>Harsh</th>\n",
       "      <td>False</td>\n",
       "      <td>False</td>\n",
       "      <td>False</td>\n",
       "      <td>False</td>\n",
       "    </tr>\n",
       "    <tr>\n",
       "      <th>Nimish</th>\n",
       "      <td>True</td>\n",
       "      <td>False</td>\n",
       "      <td>True</td>\n",
       "      <td>False</td>\n",
       "    </tr>\n",
       "    <tr>\n",
       "      <th>Pranav</th>\n",
       "      <td>False</td>\n",
       "      <td>False</td>\n",
       "      <td>False</td>\n",
       "      <td>False</td>\n",
       "    </tr>\n",
       "    <tr>\n",
       "      <th>Sujay</th>\n",
       "      <td>False</td>\n",
       "      <td>False</td>\n",
       "      <td>False</td>\n",
       "      <td>True</td>\n",
       "    </tr>\n",
       "  </tbody>\n",
       "</table>\n",
       "</div>"
      ],
      "text/plain": [
       "        Data Structures  Business Forecasting  Intro to DS  Project Management\n",
       "Abby              False                  True        False               False\n",
       "Akash             False                 False        False               False\n",
       "Harsh             False                 False        False               False\n",
       "Nimish             True                 False         True               False\n",
       "Pranav            False                 False        False               False\n",
       "Sujay             False                 False        False                True"
      ]
     },
     "execution_count": 68,
     "metadata": {},
     "output_type": "execute_result"
    }
   ],
   "source": [
    "# After executing this code, we get True values for cells that are null or contain Nan.\n",
    "df_marks.isnull()"
   ]
  },
  {
   "cell_type": "code",
   "execution_count": 70,
   "metadata": {},
   "outputs": [
    {
     "data": {
      "text/html": [
       "<div>\n",
       "<style scoped>\n",
       "    .dataframe tbody tr th:only-of-type {\n",
       "        vertical-align: middle;\n",
       "    }\n",
       "\n",
       "    .dataframe tbody tr th {\n",
       "        vertical-align: top;\n",
       "    }\n",
       "\n",
       "    .dataframe thead th {\n",
       "        text-align: right;\n",
       "    }\n",
       "</style>\n",
       "<table border=\"1\" class=\"dataframe\">\n",
       "  <thead>\n",
       "    <tr style=\"text-align: right;\">\n",
       "      <th></th>\n",
       "      <th>Data Structures</th>\n",
       "      <th>Business Forecasting</th>\n",
       "      <th>Intro to DS</th>\n",
       "      <th>Project Management</th>\n",
       "    </tr>\n",
       "  </thead>\n",
       "  <tbody>\n",
       "    <tr>\n",
       "      <th>Abby</th>\n",
       "      <td>True</td>\n",
       "      <td>False</td>\n",
       "      <td>True</td>\n",
       "      <td>True</td>\n",
       "    </tr>\n",
       "    <tr>\n",
       "      <th>Akash</th>\n",
       "      <td>True</td>\n",
       "      <td>True</td>\n",
       "      <td>True</td>\n",
       "      <td>True</td>\n",
       "    </tr>\n",
       "    <tr>\n",
       "      <th>Harsh</th>\n",
       "      <td>True</td>\n",
       "      <td>True</td>\n",
       "      <td>True</td>\n",
       "      <td>True</td>\n",
       "    </tr>\n",
       "    <tr>\n",
       "      <th>Nimish</th>\n",
       "      <td>False</td>\n",
       "      <td>True</td>\n",
       "      <td>False</td>\n",
       "      <td>True</td>\n",
       "    </tr>\n",
       "    <tr>\n",
       "      <th>Pranav</th>\n",
       "      <td>True</td>\n",
       "      <td>True</td>\n",
       "      <td>True</td>\n",
       "      <td>True</td>\n",
       "    </tr>\n",
       "    <tr>\n",
       "      <th>Sujay</th>\n",
       "      <td>True</td>\n",
       "      <td>True</td>\n",
       "      <td>True</td>\n",
       "      <td>False</td>\n",
       "    </tr>\n",
       "  </tbody>\n",
       "</table>\n",
       "</div>"
      ],
      "text/plain": [
       "        Data Structures  Business Forecasting  Intro to DS  Project Management\n",
       "Abby               True                 False         True                True\n",
       "Akash              True                  True         True                True\n",
       "Harsh              True                  True         True                True\n",
       "Nimish            False                  True        False                True\n",
       "Pranav             True                  True         True                True\n",
       "Sujay              True                  True         True               False"
      ]
     },
     "execution_count": 70,
     "metadata": {},
     "output_type": "execute_result"
    }
   ],
   "source": [
    "# This is a reverse of the isnull() function.\n",
    "# After executing this code, we will get True for all values that are not null.\n",
    "df_marks.notnull()"
   ]
  },
  {
   "cell_type": "markdown",
   "metadata": {},
   "source": [
    "#### (ii) fillna() method\n",
    "This function is used to replace or fill some values instead of NaN in a dataframe. Suppose, we find null values in a large dataset and we want to replace it with a 0, we can simply use these methods to achieve it."
   ]
  },
  {
   "cell_type": "code",
   "execution_count": 72,
   "metadata": {},
   "outputs": [
    {
     "data": {
      "text/html": [
       "<div>\n",
       "<style scoped>\n",
       "    .dataframe tbody tr th:only-of-type {\n",
       "        vertical-align: middle;\n",
       "    }\n",
       "\n",
       "    .dataframe tbody tr th {\n",
       "        vertical-align: top;\n",
       "    }\n",
       "\n",
       "    .dataframe thead th {\n",
       "        text-align: right;\n",
       "    }\n",
       "</style>\n",
       "<table border=\"1\" class=\"dataframe\">\n",
       "  <thead>\n",
       "    <tr style=\"text-align: right;\">\n",
       "      <th></th>\n",
       "      <th>Data Structures</th>\n",
       "      <th>Business Forecasting</th>\n",
       "      <th>Intro to DS</th>\n",
       "      <th>Project Management</th>\n",
       "    </tr>\n",
       "  </thead>\n",
       "  <tbody>\n",
       "    <tr>\n",
       "      <th>Abby</th>\n",
       "      <td>9.0</td>\n",
       "      <td>0.0</td>\n",
       "      <td>10.0</td>\n",
       "      <td>9.0</td>\n",
       "    </tr>\n",
       "    <tr>\n",
       "      <th>Akash</th>\n",
       "      <td>10.0</td>\n",
       "      <td>10.0</td>\n",
       "      <td>9.0</td>\n",
       "      <td>9.0</td>\n",
       "    </tr>\n",
       "    <tr>\n",
       "      <th>Harsh</th>\n",
       "      <td>10.0</td>\n",
       "      <td>10.0</td>\n",
       "      <td>9.0</td>\n",
       "      <td>10.0</td>\n",
       "    </tr>\n",
       "    <tr>\n",
       "      <th>Nimish</th>\n",
       "      <td>0.0</td>\n",
       "      <td>9.0</td>\n",
       "      <td>0.0</td>\n",
       "      <td>10.0</td>\n",
       "    </tr>\n",
       "    <tr>\n",
       "      <th>Pranav</th>\n",
       "      <td>10.0</td>\n",
       "      <td>10.0</td>\n",
       "      <td>8.0</td>\n",
       "      <td>9.0</td>\n",
       "    </tr>\n",
       "    <tr>\n",
       "      <th>Sujay</th>\n",
       "      <td>7.0</td>\n",
       "      <td>10.0</td>\n",
       "      <td>8.0</td>\n",
       "      <td>0.0</td>\n",
       "    </tr>\n",
       "  </tbody>\n",
       "</table>\n",
       "</div>"
      ],
      "text/plain": [
       "        Data Structures  Business Forecasting  Intro to DS  Project Management\n",
       "Abby                9.0                   0.0         10.0                 9.0\n",
       "Akash              10.0                  10.0          9.0                 9.0\n",
       "Harsh              10.0                  10.0          9.0                10.0\n",
       "Nimish              0.0                   9.0          0.0                10.0\n",
       "Pranav             10.0                  10.0          8.0                 9.0\n",
       "Sujay               7.0                  10.0          8.0                 0.0"
      ]
     },
     "execution_count": 72,
     "metadata": {},
     "output_type": "execute_result"
    }
   ],
   "source": [
    "df_marks.fillna(0)"
   ]
  },
  {
   "cell_type": "markdown",
   "metadata": {},
   "source": [
    "***"
   ]
  },
  {
   "cell_type": "markdown",
   "metadata": {},
   "source": [
    "### 5) Concatenating\n",
    "We can concat two dataframes using the concat() method. Concatenation happens along the axis. Here, let us take an example of two dataframes, D1 and D2 each containing a list of customers who have purchased some products from an electronics store."
   ]
  },
  {
   "cell_type": "code",
   "execution_count": 75,
   "metadata": {},
   "outputs": [
    {
     "name": "stdout",
     "output_type": "stream",
     "text": [
      "       Name     Product  Quantity\n",
      "1       Sam      Laptop         1\n",
      "2       Max      Mobile         2\n",
      "3      Sean     Printer         1\n",
      "4      Will  Headphones         3\n",
      "5      Mike     Airpods         1\n",
      "1       Rob      Mobile         1\n",
      "2      Bran     Printer         3\n",
      "3      Leon       Modem         1\n",
      "4      John  Headphones         1\n",
      "5  Khaleesi     Airpods         2\n"
     ]
    }
   ],
   "source": [
    "import pandas as pd\n",
    "\n",
    "D1 = pd.DataFrame({\n",
    "   'Name': ['Sam', 'Max', 'Sean', 'Will', 'Mike'],\n",
    "   'Product':['Laptop','Mobile','Printer','Headphones','Airpods'],\n",
    "   'Quantity':[1,2,1,3,1]},\n",
    "   index=[1,2,3,4,5])\n",
    "\n",
    "D2 = pd.DataFrame({\n",
    "   'Name': ['Rob', 'Bran', 'Leon', 'John', 'Khaleesi'],\n",
    "   'Product':['Mobile','Printer','Modem','Headphones','Airpods'],\n",
    "   'Quantity':[1,3,1,1,2]},\n",
    "   index=[1,2,3,4,5])\n",
    "concat_df = pd.concat([D1,D2])\n",
    "print(concat_df)"
   ]
  },
  {
   "cell_type": "markdown",
   "metadata": {},
   "source": [
    "If we wish to add two columns along axis=1, the new columns will be appended as follows. "
   ]
  },
  {
   "cell_type": "code",
   "execution_count": 78,
   "metadata": {},
   "outputs": [
    {
     "name": "stdout",
     "output_type": "stream",
     "text": [
      "   Name     Product  Quantity      Name     Product  Quantity\n",
      "1   Sam      Laptop         1       Rob      Mobile         1\n",
      "2   Max      Mobile         2      Bran     Printer         3\n",
      "3  Sean     Printer         1      Leon       Modem         1\n",
      "4  Will  Headphones         3      John  Headphones         1\n",
      "5  Mike     Airpods         1  Khaleesi     Airpods         2\n"
     ]
    }
   ],
   "source": [
    "import pandas as pd\n",
    "\n",
    "D1 = pd.DataFrame({\n",
    "   'Name': ['Sam', 'Max', 'Sean', 'Will', 'Mike'],\n",
    "   'Product':['Laptop','Mobile','Printer','Headphones','Airpods'],\n",
    "   'Quantity':[1,2,1,3,1]},\n",
    "   index=[1,2,3,4,5])\n",
    "\n",
    "D2 = pd.DataFrame({\n",
    "   'Name': ['Rob', 'Bran', 'Leon', 'John', 'Khaleesi'],\n",
    "   'Product':['Mobile','Printer','Modem','Headphones','Airpods'],\n",
    "   'Quantity':[1,3,1,1,2]},\n",
    "   index=[1,2,3,4,5])\n",
    "concat_df = pd.concat([D1,D2],axis=1)\n",
    "print(concat_df)"
   ]
  },
  {
   "cell_type": "markdown",
   "metadata": {},
   "source": [
    "If we want to get the new dataframe auto-indexed, we can use ignore_index=True to acheive this."
   ]
  },
  {
   "cell_type": "code",
   "execution_count": 77,
   "metadata": {},
   "outputs": [
    {
     "name": "stdout",
     "output_type": "stream",
     "text": [
      "       Name     Product  Quantity\n",
      "0       Sam      Laptop         1\n",
      "1       Max      Mobile         2\n",
      "2      Sean     Printer         1\n",
      "3      Will  Headphones         3\n",
      "4      Mike     Airpods         1\n",
      "5       Rob      Mobile         1\n",
      "6      Bran     Printer         3\n",
      "7      Leon       Modem         1\n",
      "8      John  Headphones         1\n",
      "9  Khaleesi     Airpods         2\n"
     ]
    }
   ],
   "source": [
    "import pandas as pd\n",
    "\n",
    "D1 = pd.DataFrame({\n",
    "   'Name': ['Sam', 'Max', 'Sean', 'Will', 'Mike'],\n",
    "   'Product':['Laptop','Mobile','Printer','Headphones','Airpods'],\n",
    "   'Quantity':[1,2,1,3,1]},\n",
    "   index=[1,2,3,4,5])\n",
    "\n",
    "D2 = pd.DataFrame({\n",
    "   'Name': ['Rob', 'Bran', 'Leon', 'John', 'Khaleesi'],\n",
    "   'Product':['Mobile','Printer','Modem','Headphones','Airpods'],\n",
    "   'Quantity':[1,3,1,1,2]},\n",
    "   index=[1,2,3,4,5])\n",
    "concat_df = pd.concat([D1,D2],ignore_index=True)\n",
    "print(concat_df)"
   ]
  },
  {
   "cell_type": "markdown",
   "metadata": {},
   "source": [
    "***"
   ]
  },
  {
   "cell_type": "markdown",
   "metadata": {},
   "source": [
    "### 6) Pandas visualization\n",
    "We can visualize the dataframes as basic plots, bar plots, area plots, etc. Pandas provides some built-in methods to acheive this. Let us use a common dataframe to see the results in a basic plot, bar plot and area plot. This functionality is a wrapper around the matplotlib libraries plot() method."
   ]
  },
  {
   "cell_type": "markdown",
   "metadata": {},
   "source": [
    "#### (i) Basic plot\n",
    "dataframe.plot() method is used to plot this."
   ]
  },
  {
   "cell_type": "code",
   "execution_count": 81,
   "metadata": {},
   "outputs": [
    {
     "name": "stdout",
     "output_type": "stream",
     "text": [
      "        Data Structures  Business Forecasting  Intro to DS  Project Management\n",
      "Abby                  9                    10           10                   9\n",
      "Akash                10                    10            9                   9\n",
      "Harsh                10                    10            9                  10\n",
      "Nimish                9                     9           10                  10\n",
      "Pranav               10                    10            8                   9\n",
      "Sujay                 7                    10            8                   9\n"
     ]
    }
   ],
   "source": [
    "import numpy as np\n",
    "import pandas as pd\n",
    "\n",
    "dict_DS = {'Akash':10, 'Abby':9, 'Sujay':7, 'Nimish':9, 'Pranav':10, 'Harsh':10}\n",
    "dict_BF = {'Akash':10, 'Abby':10, 'Sujay':10, 'Nimish':9, 'Pranav':10, 'Harsh':10}\n",
    "dict_IDS = {'Akash':9, 'Abby':10, 'Sujay':8, 'Nimish':10, 'Pranav':8, 'Harsh':9}\n",
    "dict_PM = {'Akash':9, 'Abby':9, 'Sujay':9, 'Nimish':10, 'Pranav':9, 'Harsh':10}\n",
    "# Defining data with the above dictionaries.\n",
    "Data = {'Data Structures':dict_DS,'Business Forecasting':dict_BF,'Intro to DS':dict_IDS,'Project Management':dict_PM}\n",
    "#Creating the DataFrame using Data as input\n",
    "df_marks = pd.DataFrame(Data)\n",
    "print(df_marks)"
   ]
  },
  {
   "cell_type": "code",
   "execution_count": 82,
   "metadata": {},
   "outputs": [
    {
     "data": {
      "text/plain": [
       "<matplotlib.axes._subplots.AxesSubplot at 0x25194495860>"
      ]
     },
     "execution_count": 82,
     "metadata": {},
     "output_type": "execute_result"
    },
    {
     "data": {
      "image/png": "[encoded data removed]",
      "text/plain": [
       "<Figure size 432x288 with 1 Axes>"
      ]
     },
     "metadata": {
      "needs_background": "light"
     },
     "output_type": "display_data"
    }
   ],
   "source": [
    "df_marks.plot()"
   ]
  },
  {
   "cell_type": "markdown",
   "metadata": {},
   "source": [
    "#### (ii) Bar plot\n",
    "dataframe.plot.bar() method is used to plot this."
   ]
  },
  {
   "cell_type": "code",
   "execution_count": 83,
   "metadata": {},
   "outputs": [
    {
     "data": {
      "text/plain": [
       "<matplotlib.axes._subplots.AxesSubplot at 0x2519451b198>"
      ]
     },
     "execution_count": 83,
     "metadata": {},
     "output_type": "execute_result"
    },
    {
     "data": {
      "image/png": "[encoded data removed]",
      "text/plain": [
       "<Figure size 432x288 with 1 Axes>"
      ]
     },
     "metadata": {
      "needs_background": "light"
     },
     "output_type": "display_data"
    }
   ],
   "source": [
    "df_marks.plot.bar()"
   ]
  },
  {
   "cell_type": "markdown",
   "metadata": {},
   "source": [
    "#### (iii) Area plot\n",
    "df.plot.area() method is used to plot this."
   ]
  },
  {
   "cell_type": "code",
   "execution_count": 86,
   "metadata": {},
   "outputs": [
    {
     "data": {
      "text/plain": [
       "<matplotlib.axes._subplots.AxesSubplot at 0x251946a6630>"
      ]
     },
     "execution_count": 86,
     "metadata": {},
     "output_type": "execute_result"
    },
    {
     "data": {
      "image/png": "[encoded data removed]",
      "text/plain": [
       "<Figure size 432x288 with 1 Axes>"
      ]
     },
     "metadata": {
      "needs_background": "light"
     },
     "output_type": "display_data"
    }
   ],
   "source": [
    "df_marks.plot.area()"
   ]
  },
  {
   "cell_type": "markdown",
   "metadata": {},
   "source": [
    "***"
   ]
  },
  {
   "cell_type": "markdown",
   "metadata": {},
   "source": [
    "### CITATIONS\n",
    "\n",
    "1. https://www.geeksforgeeks.org/python-pandas-dataframe/\n",
    "2. https://pandas.pydata.org\n",
    "3. https://www.learndatasci.com/tutorials/python-pandas-tutorial-complete-introduction-for-beginners/\n",
    "4. https://www.tutorialspoint.com/python_pandas.htm\n",
    "5. https://www.learnpython.org/en/Pandas_Basics"
   ]
  }
 ],
 "metadata": {
  "kernelspec": {
   "display_name": "Python 3",
   "language": "python",
   "name": "python3"
  },
  "language_info": {
   "codemirror_mode": {
    "name": "ipython",
    "version": 3
   },
   "file_extension": ".py",
   "mimetype": "text/x-python",
   "name": "python",
   "nbconvert_exporter": "python",
   "pygments_lexer": "ipython3",
   "version": "3.7.3"
  }
 },
 "nbformat": 4,
 "nbformat_minor": 2
}
