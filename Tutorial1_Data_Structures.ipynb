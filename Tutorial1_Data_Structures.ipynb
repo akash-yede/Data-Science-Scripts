{
 "cells": [
  {
   "cell_type": "markdown",
   "metadata": {},
   "source": [
    "# Strings"
   ]
  },
  {
   "cell_type": "markdown",
   "metadata": {},
   "source": [
    "Strings are byte arrays that represent unicode characters. These are objects containing a sequence of characters. We can\n",
    "create strings by enclosing characters within quotes. Since python does not have a character data type, a single character\n",
    "is just a string of length 1. Strings in python are immutable."
   ]
  },
  {
   "cell_type": "code",
   "execution_count": 190,
   "metadata": {},
   "outputs": [
    {
     "name": "stdout",
     "output_type": "stream",
     "text": [
      "Hello\n"
     ]
    }
   ],
   "source": [
    "# We can assign a string to a variable with the variable name followed by an equal sign and the string.\n",
    "my_string = \"Hello\"\n",
    "print(my_string)"
   ]
  },
  {
   "cell_type": "code",
   "execution_count": 191,
   "metadata": {},
   "outputs": [
    {
     "name": "stdout",
     "output_type": "stream",
     "text": [
      "5\n"
     ]
    }
   ],
   "source": [
    "# We can perform various operations on strings.\n",
    "# To find the length of the string.\n",
    "print(len(my_string))"
   ]
  },
  {
   "cell_type": "code",
   "execution_count": 192,
   "metadata": {
    "scrolled": true
   },
   "outputs": [
    {
     "name": "stdout",
     "output_type": "stream",
     "text": [
      "e\n"
     ]
    }
   ],
   "source": [
    "# To get the character at position 1 in the string.\n",
    "print(my_string[1])"
   ]
  },
  {
   "cell_type": "code",
   "execution_count": 193,
   "metadata": {},
   "outputs": [
    {
     "name": "stdout",
     "output_type": "stream",
     "text": [
      "ell\n"
     ]
    }
   ],
   "source": [
    "# To get the characters from position 1 to 4. Here, character at position 4 is not inclusive.\n",
    "print(my_string[1:4])"
   ]
  },
  {
   "cell_type": "code",
   "execution_count": 194,
   "metadata": {},
   "outputs": [
    {
     "name": "stdout",
     "output_type": "stream",
     "text": [
      "HELLO\n"
     ]
    }
   ],
   "source": [
    "# To convert the string in upper case.\n",
    "print(my_string.upper())"
   ]
  },
  {
   "cell_type": "code",
   "execution_count": 195,
   "metadata": {},
   "outputs": [
    {
     "name": "stdout",
     "output_type": "stream",
     "text": [
      "hello\n"
     ]
    }
   ],
   "source": [
    "# To convert the string in lower case.\n",
    "print(my_string.lower())"
   ]
  },
  {
   "cell_type": "code",
   "execution_count": 196,
   "metadata": {},
   "outputs": [
    {
     "name": "stdout",
     "output_type": "stream",
     "text": [
      "Hello\n"
     ]
    }
   ],
   "source": [
    "# To capitalize the first character of the string.\n",
    "print(my_string.capitalize())"
   ]
  },
  {
   "cell_type": "code",
   "execution_count": 197,
   "metadata": {},
   "outputs": [
    {
     "name": "stdout",
     "output_type": "stream",
     "text": [
      "Hallo\n"
     ]
    }
   ],
   "source": [
    "# To replace characters in the string.\n",
    "print(my_string.replace(\"e\",\"a\"))"
   ]
  },
  {
   "cell_type": "code",
   "execution_count": 198,
   "metadata": {},
   "outputs": [
    {
     "name": "stdout",
     "output_type": "stream",
     "text": [
      "This is my first assignment on the following topics:\n",
      "strings\n",
      "lists\n",
      "sorting\n",
      "dicts\n"
     ]
    }
   ],
   "source": [
    "# To assign a multiline string, we can use three quotes in the string.\n",
    "str_multiline = \"\"\"This is my first assignment on the following topics:\n",
    "strings\n",
    "lists\n",
    "sorting\n",
    "dicts\"\"\"\n",
    "print(str_multiline)"
   ]
  },
  {
   "cell_type": "code",
   "execution_count": 199,
   "metadata": {},
   "outputs": [
    {
     "name": "stdout",
     "output_type": "stream",
     "text": [
      "New Jersey\n"
     ]
    }
   ],
   "source": [
    "# The + operator is used to concatenate two strings. Here, we are adding a space between both the strings.\n",
    "str_1 = \"New\"\n",
    "str_2 = \"Jersey\"\n",
    "str_3 = str_1 +\" \"+ str_2\n",
    "print(str_3)"
   ]
  },
  {
   "cell_type": "code",
   "execution_count": 200,
   "metadata": {},
   "outputs": [
    {
     "name": "stdout",
     "output_type": "stream",
     "text": [
      "Default Order: Tom, Alan and John\n"
     ]
    }
   ],
   "source": [
    "# We can use string interpolation to format strings. This can be done using {} braces as replacement fields that get\n",
    "# replaced. This can be done using the format() method.\n",
    "default_order = \"{}, {} and {}\".format('Tom','Alan','John')\n",
    "print(\"Default Order: \"+default_order)"
   ]
  },
  {
   "cell_type": "code",
   "execution_count": 201,
   "metadata": {},
   "outputs": [
    {
     "name": "stdout",
     "output_type": "stream",
     "text": [
      "Positional Order: John, Alan and Tom\n"
     ]
    }
   ],
   "source": [
    "# We can format the above string using their positions within the {} braces.\n",
    "positional_order = \"{2}, {1} and {0}\".format('Tom','Alan','John')\n",
    "print(\"Positional Order: \"+positional_order)"
   ]
  },
  {
   "cell_type": "code",
   "execution_count": 202,
   "metadata": {},
   "outputs": [
    {
     "name": "stdout",
     "output_type": "stream",
     "text": [
      "Keyword Order: Alan, John and Tom\n"
     ]
    }
   ],
   "source": [
    "# We can also use keyword arguments to specify the order.\n",
    "keyword_order = \"{a}, {j} and {t}\".format(t='Tom',a='Alan',j='John')\n",
    "print(\"Keyword Order: \"+keyword_order)"
   ]
  },
  {
   "cell_type": "code",
   "execution_count": 241,
   "metadata": {},
   "outputs": [],
   "source": [
    "# There are many other built-in string methods. Some of the common methods are as follows -\n",
    "\n",
    "# count()     : returns the number of occurances of a specific value in a string\n",
    "# find()      : searches the string for a specific value and returns the index position where it was found\n",
    "# title()     : converts the first character of each word to upper case\n",
    "# replace()   : replaces words in the string with new specified values\n",
    "# islower()   : checks if all characters in the string are lower case and returns true\n",
    "# isupper()   : checks if all characters in the string are upper case and returns true\n",
    "# isalnum()   : checks if all characters in the string are alphanumeric and returns true\n",
    "# isalpha()   : checks if all characters in the string are in alphabet and returns true\n",
    "# isnumeric() : checks if all characters in the string are numeric and returns true"
   ]
  },
  {
   "cell_type": "markdown",
   "metadata": {},
   "source": [
    "# Lists"
   ]
  },
  {
   "cell_type": "markdown",
   "metadata": {},
   "source": [
    "List is a collection of ordered, changeable and duplicate data. It is created by using square brackets and list elements are separated by a comma. Elements in the list can be accessed by their index positions in the list. Indexing in python starts from 0."
   ]
  },
  {
   "cell_type": "code",
   "execution_count": 203,
   "metadata": {},
   "outputs": [
    {
     "name": "stdout",
     "output_type": "stream",
     "text": [
      "[4, 6, 2, 9, 4, 5]\n"
     ]
    }
   ],
   "source": [
    "# To create a list, just add items separated by a comma inside square brackets. 'print' method can be used to print \n",
    "# a list as follows – \n",
    "my_list = [4,6,2,9,4,5]\n",
    "print (my_list)"
   ]
  },
  {
   "cell_type": "code",
   "execution_count": 204,
   "metadata": {},
   "outputs": [
    {
     "data": {
      "text/plain": [
       "4"
      ]
     },
     "execution_count": 204,
     "metadata": {},
     "output_type": "execute_result"
    }
   ],
   "source": [
    "# To access elements in the list, we pick the index of a specific element from the list as follows – \n",
    "# To pick an element at index 0 - \n",
    "my_list[0]"
   ]
  },
  {
   "cell_type": "code",
   "execution_count": 205,
   "metadata": {},
   "outputs": [
    {
     "data": {
      "text/plain": [
       "9"
      ]
     },
     "execution_count": 205,
     "metadata": {},
     "output_type": "execute_result"
    }
   ],
   "source": [
    "# To pick an element at index 3 - \n",
    "my_list[3]"
   ]
  },
  {
   "cell_type": "code",
   "execution_count": 206,
   "metadata": {},
   "outputs": [
    {
     "data": {
      "text/plain": [
       "5"
      ]
     },
     "execution_count": 206,
     "metadata": {},
     "output_type": "execute_result"
    }
   ],
   "source": [
    "# To pick the list elements from the end, we can use a negative sign with its position from the end. The last position in\n",
    "# a list is at -1\n",
    "my_list[-1]"
   ]
  },
  {
   "cell_type": "code",
   "execution_count": 207,
   "metadata": {},
   "outputs": [
    {
     "data": {
      "text/plain": [
       "4"
      ]
     },
     "execution_count": 207,
     "metadata": {},
     "output_type": "execute_result"
    }
   ],
   "source": [
    "# To pick the second last element from the list - \n",
    "my_list[-2]"
   ]
  },
  {
   "cell_type": "markdown",
   "metadata": {},
   "source": [
    "To get a range of elements from a list, we can slice the list. This is shown as follows."
   ]
  },
  {
   "cell_type": "code",
   "execution_count": 208,
   "metadata": {},
   "outputs": [
    {
     "data": {
      "text/plain": [
       "[6, 2, 9, 4, 5]"
      ]
     },
     "execution_count": 208,
     "metadata": {},
     "output_type": "execute_result"
    }
   ],
   "source": [
    "# To pick all the elements from index 1 to the end of the list. Here, the element at index 1 is inclusive.\n",
    "my_list[1:]"
   ]
  },
  {
   "cell_type": "code",
   "execution_count": 209,
   "metadata": {},
   "outputs": [
    {
     "data": {
      "text/plain": [
       "[4, 6, 2, 9]"
      ]
     },
     "execution_count": 209,
     "metadata": {},
     "output_type": "execute_result"
    }
   ],
   "source": [
    "# To pick all the elements upto index 4. Here, the element at index 4 is not inclusive.\n",
    "my_list[:4]"
   ]
  },
  {
   "cell_type": "code",
   "execution_count": 210,
   "metadata": {},
   "outputs": [
    {
     "data": {
      "text/plain": [
       "[6, 2, 9]"
      ]
     },
     "execution_count": 210,
     "metadata": {},
     "output_type": "execute_result"
    }
   ],
   "source": [
    "# To pick elements from index 1 to index 4. Here, element at index 1 is inclusive and element at index 4 is not.\n",
    "my_list[1:4]"
   ]
  },
  {
   "cell_type": "markdown",
   "metadata": {},
   "source": [
    "There are some list methods that can be used to perform mathematical calculations on the list."
   ]
  },
  {
   "cell_type": "code",
   "execution_count": 211,
   "metadata": {},
   "outputs": [
    {
     "name": "stdout",
     "output_type": "stream",
     "text": [
      "Length: 6\n"
     ]
    }
   ],
   "source": [
    "# To find the length of the list\n",
    "print(\"Length:\",len(my_list))"
   ]
  },
  {
   "cell_type": "code",
   "execution_count": 212,
   "metadata": {},
   "outputs": [
    {
     "name": "stdout",
     "output_type": "stream",
     "text": [
      "Sum: 30\n"
     ]
    }
   ],
   "source": [
    "# To find the sum of all the elements in the list\n",
    "print(\"Sum:\",sum(my_list))"
   ]
  },
  {
   "cell_type": "code",
   "execution_count": 213,
   "metadata": {},
   "outputs": [
    {
     "name": "stdout",
     "output_type": "stream",
     "text": [
      "Maximum: 9\n"
     ]
    }
   ],
   "source": [
    "# To find the maximum of all the elements in the list\n",
    "print(\"Maximum:\",max(my_list))"
   ]
  },
  {
   "cell_type": "code",
   "execution_count": 214,
   "metadata": {},
   "outputs": [
    {
     "name": "stdout",
     "output_type": "stream",
     "text": [
      "Minimum: 2\n"
     ]
    }
   ],
   "source": [
    "# To find the minimum of all the elements in the list\n",
    "print(\"Minimum:\",min(my_list))"
   ]
  },
  {
   "cell_type": "code",
   "execution_count": 215,
   "metadata": {},
   "outputs": [
    {
     "name": "stdout",
     "output_type": "stream",
     "text": [
      "[4, 6, 2, 9, 4, 5, 10]\n"
     ]
    }
   ],
   "source": [
    "# To add elements to the end of the list, we can use the append method.\n",
    "my_list.append(10)\n",
    "print(my_list)"
   ]
  },
  {
   "cell_type": "code",
   "execution_count": 216,
   "metadata": {},
   "outputs": [
    {
     "name": "stdout",
     "output_type": "stream",
     "text": [
      "[4, 6, 2, 9, 4, 5, 10, 11, 12]\n"
     ]
    }
   ],
   "source": [
    "# We can also use the extend method to add multiple elements to our list.\n",
    "my_list.extend([11,12])\n",
    "print(my_list)"
   ]
  },
  {
   "cell_type": "code",
   "execution_count": 217,
   "metadata": {},
   "outputs": [
    {
     "name": "stdout",
     "output_type": "stream",
     "text": [
      "[6, 2, 9, 4, 5, 10, 11, 12]\n"
     ]
    }
   ],
   "source": [
    "#To remove an element on its first occurance in the list.\n",
    "my_list.remove(4)\n",
    "print(my_list)"
   ]
  },
  {
   "cell_type": "code",
   "execution_count": 218,
   "metadata": {},
   "outputs": [
    {
     "data": {
      "text/plain": [
       "9"
      ]
     },
     "execution_count": 218,
     "metadata": {},
     "output_type": "execute_result"
    }
   ],
   "source": [
    "# To remove an element from a specific index, we can use the \"pop\" function. This function returns the removed element \n",
    "# from the list. Here, we can remove the element at index 2.\n",
    "my_list.pop(2)"
   ]
  },
  {
   "cell_type": "code",
   "execution_count": 219,
   "metadata": {},
   "outputs": [
    {
     "name": "stdout",
     "output_type": "stream",
     "text": [
      "[6, 2, 4, 5, 10, 11, 12]\n"
     ]
    }
   ],
   "source": [
    "# We can now print the list to check if 9 is removed.\n",
    "print(my_list)"
   ]
  },
  {
   "cell_type": "markdown",
   "metadata": {},
   "source": [
    "# Sorting"
   ]
  },
  {
   "cell_type": "markdown",
   "metadata": {},
   "source": [
    "We can perform sorting operations on lists by using the \"sort\" function. This function alters the original list."
   ]
  },
  {
   "cell_type": "code",
   "execution_count": 220,
   "metadata": {},
   "outputs": [
    {
     "name": "stdout",
     "output_type": "stream",
     "text": [
      "[4, 2, 7, 3, 8, 6]\n"
     ]
    }
   ],
   "source": [
    "# Here, we create a list.\n",
    "list_1 = [4,2,7,3,8,6]\n",
    "print(list_1)"
   ]
  },
  {
   "cell_type": "code",
   "execution_count": 221,
   "metadata": {},
   "outputs": [
    {
     "name": "stdout",
     "output_type": "stream",
     "text": [
      "[2, 3, 4, 6, 7, 8]\n"
     ]
    }
   ],
   "source": [
    "# To sort the list in ascending order.\n",
    "list_1.sort()\n",
    "print(list_1)"
   ]
  },
  {
   "cell_type": "code",
   "execution_count": 222,
   "metadata": {},
   "outputs": [
    {
     "name": "stdout",
     "output_type": "stream",
     "text": [
      "[8, 7, 6, 4, 3, 2]\n"
     ]
    }
   ],
   "source": [
    "# To sort the list in descending order, we can use \"reverse = True\" and print the list.\n",
    "list_1.sort(reverse = True)\n",
    "print(list_1)"
   ]
  },
  {
   "cell_type": "code",
   "execution_count": 223,
   "metadata": {},
   "outputs": [
    {
     "name": "stdout",
     "output_type": "stream",
     "text": [
      "['Sam', 'Tom', 'Alan', 'Rob', 'Bob', 'Peter']\n"
     ]
    }
   ],
   "source": [
    "# We can create another list to sort items alphabetically.\n",
    "list_2 = ['Sam', 'Tom', 'Alan', 'Rob', 'Bob', 'Peter']\n",
    "print(list_2)"
   ]
  },
  {
   "cell_type": "code",
   "execution_count": 224,
   "metadata": {},
   "outputs": [
    {
     "name": "stdout",
     "output_type": "stream",
     "text": [
      "['Alan', 'Bob', 'Peter', 'Rob', 'Sam', 'Tom']\n"
     ]
    }
   ],
   "source": [
    "# We can use the sort method again to sort the list in A-Z fashion.\n",
    "list_2.sort()\n",
    "print(list_2)"
   ]
  },
  {
   "cell_type": "code",
   "execution_count": 225,
   "metadata": {},
   "outputs": [
    {
     "name": "stdout",
     "output_type": "stream",
     "text": [
      "['Tom', 'Sam', 'Rob', 'Peter', 'Bob', 'Alan']\n"
     ]
    }
   ],
   "source": [
    "# To sort the list in Z-A fashion.\n",
    "list_2.sort(reverse = True)\n",
    "print(list_2)"
   ]
  },
  {
   "cell_type": "code",
   "execution_count": 226,
   "metadata": {},
   "outputs": [
    {
     "name": "stdout",
     "output_type": "stream",
     "text": [
      "['Alan', 'Bob', 'Peter', 'Rob', 'Sam', 'Tom']\n"
     ]
    }
   ],
   "source": [
    "# We can sort a list without altering the original list using the \"sorted\" function. This basically preserves the original\n",
    "# list.\n",
    "list_2 = ['Sam', 'Tom', 'Alan', 'Rob', 'Bob', 'Peter']\n",
    "new_list = sorted(list_2)\n",
    "print(new_list)"
   ]
  },
  {
   "cell_type": "code",
   "execution_count": 227,
   "metadata": {},
   "outputs": [
    {
     "name": "stdout",
     "output_type": "stream",
     "text": [
      "['Sam', 'Tom', 'Alan', 'Rob', 'Bob', 'Peter']\n"
     ]
    }
   ],
   "source": [
    "# Lets print list_2 to chcek if it is unchanged.\n",
    "print(list_2)"
   ]
  },
  {
   "cell_type": "markdown",
   "metadata": {},
   "source": [
    "# Dicts"
   ]
  },
  {
   "cell_type": "markdown",
   "metadata": {},
   "source": [
    "A python dictionary is a collection of key-value pairs that are unordered, mutable and indexed. They are written within curly brackets. We can create, modify, remove specific items from the dictionary and perform multiple operations on them."
   ]
  },
  {
   "cell_type": "code",
   "execution_count": 228,
   "metadata": {},
   "outputs": [
    {
     "name": "stdout",
     "output_type": "stream",
     "text": [
      "{'brand': 'lenovo', 'model': 'yoga 730', 'year': '2019'}\n"
     ]
    }
   ],
   "source": [
    "# To create and print a dictionary.\n",
    "shop_dict = {\n",
    "    \"brand\" : \"lenovo\",\n",
    "    \"model\" : \"yoga 730\",\n",
    "    \"year\" : \"2019\"\n",
    "}\n",
    "print(shop_dict)"
   ]
  },
  {
   "cell_type": "code",
   "execution_count": 229,
   "metadata": {},
   "outputs": [
    {
     "data": {
      "text/plain": [
       "'yoga 730'"
      ]
     },
     "execution_count": 229,
     "metadata": {},
     "output_type": "execute_result"
    }
   ],
   "source": [
    "# To access the value of the \"model\" key, we can use the square brackets around it.\n",
    "shop_dict[\"model\"]"
   ]
  },
  {
   "cell_type": "code",
   "execution_count": 230,
   "metadata": {},
   "outputs": [
    {
     "name": "stdout",
     "output_type": "stream",
     "text": [
      "{'brand': 'lenovo', 'model': 'yoga 720', 'year': '2019'}\n"
     ]
    }
   ],
   "source": [
    "# To change the value of the model key.\n",
    "shop_dict[\"model\"] = \"yoga 720\"\n",
    "print(shop_dict)"
   ]
  },
  {
   "cell_type": "code",
   "execution_count": 231,
   "metadata": {},
   "outputs": [
    {
     "name": "stdout",
     "output_type": "stream",
     "text": [
      "brand\n",
      "model\n",
      "year\n"
     ]
    }
   ],
   "source": [
    "# We can use the for loop to loop through the dictionary to get all the keys of the dictionary.\n",
    "for x in shop_dict:\n",
    "    print(x)"
   ]
  },
  {
   "cell_type": "code",
   "execution_count": 232,
   "metadata": {},
   "outputs": [
    {
     "name": "stdout",
     "output_type": "stream",
     "text": [
      "lenovo\n",
      "yoga 720\n",
      "2019\n"
     ]
    }
   ],
   "source": [
    "# Similarly, to return all the values from the dict, we can use the values method().\n",
    "for x in shop_dict.values():\n",
    "    print(x)"
   ]
  },
  {
   "cell_type": "code",
   "execution_count": 233,
   "metadata": {},
   "outputs": [
    {
     "name": "stdout",
     "output_type": "stream",
     "text": [
      "brand lenovo\n",
      "model yoga 720\n",
      "year 2019\n"
     ]
    }
   ],
   "source": [
    "# To return both keys and values, we can use the items() function.\n",
    "for x, y in shop_dict.items():\n",
    "    print(x,y)"
   ]
  },
  {
   "cell_type": "code",
   "execution_count": 234,
   "metadata": {},
   "outputs": [
    {
     "name": "stdout",
     "output_type": "stream",
     "text": [
      "3\n"
     ]
    }
   ],
   "source": [
    "# To print the number of items in the dictionary, we can use the len() function.\n",
    "print(len(shop_dict))"
   ]
  },
  {
   "cell_type": "code",
   "execution_count": 235,
   "metadata": {},
   "outputs": [
    {
     "name": "stdout",
     "output_type": "stream",
     "text": [
      "{'brand': 'lenovo', 'model': 'yoga 720', 'year': '2019', 'color': 'black'}\n"
     ]
    }
   ],
   "source": [
    "# To add a new item to the dictionary.\n",
    "shop_dict[\"color\"] = \"black\"\n",
    "print(shop_dict)"
   ]
  },
  {
   "cell_type": "code",
   "execution_count": 236,
   "metadata": {},
   "outputs": [
    {
     "name": "stdout",
     "output_type": "stream",
     "text": [
      "{'brand': 'lenovo', 'year': '2019', 'color': 'black'}\n"
     ]
    }
   ],
   "source": [
    "# To remove a specific item from the dictionary, we can use the pop() function along with a specified key.\n",
    "shop_dict.pop(\"model\")\n",
    "print(shop_dict)"
   ]
  },
  {
   "cell_type": "code",
   "execution_count": 237,
   "metadata": {},
   "outputs": [
    {
     "name": "stdout",
     "output_type": "stream",
     "text": [
      "{}\n"
     ]
    }
   ],
   "source": [
    "# The del keyword also performs the same operation. It can also delete the dictionary completely.\n",
    "#The clear keyword empties the dictionary.\n",
    "shop_dict.clear()\n",
    "print(shop_dict)"
   ]
  },
  {
   "cell_type": "code",
   "execution_count": 238,
   "metadata": {},
   "outputs": [
    {
     "name": "stdout",
     "output_type": "stream",
     "text": [
      "{'brand': 'lenovo', 'model': 'yoga 730', 'year': '2019'}\n"
     ]
    }
   ],
   "source": [
    "# To make a copy of the dictionary, we can use the copy() or dict() method.\n",
    "shop_dict = {\n",
    "    \"brand\" : \"lenovo\",\n",
    "    \"model\" : \"yoga 730\",\n",
    "    \"year\" : \"2019\"\n",
    "}\n",
    "new_dict = shop_dict.copy()\n",
    "print(new_dict)"
   ]
  },
  {
   "cell_type": "code",
   "execution_count": 239,
   "metadata": {},
   "outputs": [
    {
     "name": "stdout",
     "output_type": "stream",
     "text": [
      "{'product1': {'item': 'laptop', 'brand': 'lenovo'}, 'product2': {'item': 'speaker', 'brand': 'jbl'}, 'product3': {'item': 'mouse', 'brand': 'logitech'}}\n"
     ]
    }
   ],
   "source": [
    "# We can also create a nested dictionary in python.\n",
    "product1 = {\n",
    "    \"item\" : \"laptop\",\n",
    "    \"brand\" : \"lenovo\" \n",
    "}\n",
    "product2 = {\n",
    "    \"item\" : \"speaker\",\n",
    "    \"brand\" : \"jbl\" \n",
    "}\n",
    "product3 = {\n",
    "    \"item\" : \"mouse\",\n",
    "    \"brand\" : \"logitech\" \n",
    "}\n",
    "shopping_cart = {\n",
    "    \"product1\" : product1,\n",
    "    \"product2\" : product2,\n",
    "    \"product3\" : product3\n",
    "}\n",
    "print(shopping_cart)"
   ]
  },
  {
   "cell_type": "code",
   "execution_count": 240,
   "metadata": {},
   "outputs": [
    {
     "name": "stdout",
     "output_type": "stream",
     "text": [
      "{'brand': 'lenovo', 'model': 'yoga 730', 'color': 'black'}\n"
     ]
    }
   ],
   "source": [
    "# We can also create a new dictionary using the dict() constructor.\n",
    "const_dict = dict(brand = \"lenovo\", model = \"yoga 730\", color = \"black\")\n",
    "print(const_dict)"
   ]
  },
  {
   "cell_type": "markdown",
   "metadata": {},
   "source": [
    "The other built-in dictionary methods in python can be used similarly to manipulate and modify dictionaries."
   ]
  },
  {
   "cell_type": "markdown",
   "metadata": {},
   "source": [
    "List of refernces: \n",
    "1. https://www.w3schools.com/python\n",
    "2. https://docs.python.org/2/library/\n",
    "3. https://realpython.com/\n",
    "4. https://www.programiz.com/python-programming/methods\n",
    "5. https://www.youtube.com/watch?v=w9I8R3WSVqc&t=22s"
   ]
  }
 ],
 "metadata": {
  "kernelspec": {
   "display_name": "Python 3",
   "language": "python",
   "name": "python3"
  },
  "language_info": {
   "codemirror_mode": {
    "name": "ipython",
    "version": 3
   },
   "file_extension": ".py",
   "mimetype": "text/x-python",
   "name": "python",
   "nbconvert_exporter": "python",
   "pygments_lexer": "ipython3",
   "version": "3.7.3"
  }
 },
 "nbformat": 4,
 "nbformat_minor": 2
}
