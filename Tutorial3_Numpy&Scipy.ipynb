{
 "cells": [
  {
   "cell_type": "markdown",
   "metadata": {},
   "source": [
    "# Numpy and Scipy"
   ]
  },
  {
   "cell_type": "markdown",
   "metadata": {},
   "source": [
    "After covering the concepts of classes and functions in Python, we will start by exploring different Python libraries. This tutorial is designed for anyone who has an interest to dig deep into various Python libraries. We will be covering the practical use of NumPy and SciPy libraries in Arithmetic calculations. \n",
    "\n",
    "\n",
    "This is a basic tutorial covering creation, indexing, slicing and iterating through a NumPy array. It also includes SciPy which is used for performing scientific calculations like Fourier Transform and various Linear Algebra problems."
   ]
  },
  {
   "cell_type": "markdown",
   "metadata": {},
   "source": [
    "# A. NumPy\n",
    "\n",
    "NumPy is a Python package that stands for Numerical Python. It is a Linear Algebra library and is very fast. Almost all of the libraries in Python rely on Numpy. It is highly recommended that you use Anaconda distribution to install Python so that all underlying dependencies sync up with the use of conda install. \n",
    "\n",
    "You can go to your terminal and command prompt and type: \n",
    "                                                \n",
    "                                                conda install numpy"
   ]
  },
  {
   "cell_type": "markdown",
   "metadata": {},
   "source": [
    "We will use Numpy arrays throughout the course. \n",
    "Numpy arrays come in two forms:\n",
    "1. Vectors - They are strictly 1-dimensional arrays.\n",
    "2. Matrices - They are 2-dimensional arrays, but they can still contain only one row or one column."
   ]
  },
  {
   "cell_type": "markdown",
   "metadata": {},
   "source": [
    "### 1) The NumPy array\n",
    "\n",
    "Numpy's main object is an N-dimensional array called ndarray. It is a collection of items of the same type. It is not same as array.array, which is a Python library class handling only one-dimensional arrays and offering limited functionality. \n",
    "\n",
    "The basic ndarray is created using  Numpy array function as follows:\n",
    "\n",
    "                                                    numpy.array"
   ]
  },
  {
   "cell_type": "markdown",
   "metadata": {},
   "source": [
    "#### The important attributes of ndarray object include:\n",
    "\n",
    "##### 1. ndarray.ndim:\n",
    "    The number of dimensions of the array.\n",
    "##### 2. ndarray.shape:\n",
    "    It is a tuple of integers that indicate the size of the array in eac dimension. The shape will be (m,n) for a matrix with m rows and n columns. The length of the shape tuple is actually the number of axes in the matrix.\n",
    "##### 3. ndarray.size: \n",
    "    It is the total number of elements of the array. We can also get the size by taking the product of the elements of shape.\n",
    "##### 4. ndarray.dtype:\n",
    "    It is the desired data type of the array. Python has its standard data types and Numpy also provides its own. Some exmples for ths same are numpy.int32, numpy.int16 and numpy.float64.\n",
    "##### 5. ndarray.itemsize:\n",
    "    It is the calculation of each element in bytes in the array. For example,\n",
    "    1. A float64 array type has an itemsize of 8(=64/8).\n",
    "    2. A complex32 array type has an itemsize of 4(=32/8).\n",
    "##### 6. ndarray.data:\n",
    "    It is a buffer containing actualy array elements."
   ]
  },
  {
   "cell_type": "code",
   "execution_count": 17,
   "metadata": {},
   "outputs": [
    {
     "data": {
      "text/plain": [
       "array([[ 0,  1,  2,  3,  4,  5],\n",
       "       [ 6,  7,  8,  9, 10, 11],\n",
       "       [12, 13, 14, 15, 16, 17]])"
      ]
     },
     "execution_count": 17,
     "metadata": {},
     "output_type": "execute_result"
    }
   ],
   "source": [
    "import numpy as np\n",
    "arr = np.arange(18).reshape(3,6)               # Using reshape and arange\n",
    "arr                                            # printing array arr"
   ]
  },
  {
   "cell_type": "code",
   "execution_count": 18,
   "metadata": {},
   "outputs": [
    {
     "data": {
      "text/plain": [
       "(3, 6)"
      ]
     },
     "execution_count": 18,
     "metadata": {},
     "output_type": "execute_result"
    }
   ],
   "source": [
    "arr.shape                                      # To check the shape of the array"
   ]
  },
  {
   "cell_type": "code",
   "execution_count": 19,
   "metadata": {},
   "outputs": [
    {
     "data": {
      "text/plain": [
       "2"
      ]
     },
     "execution_count": 19,
     "metadata": {},
     "output_type": "execute_result"
    }
   ],
   "source": [
    "arr.ndim                                       # To check the dimensions of the array"
   ]
  },
  {
   "cell_type": "code",
   "execution_count": 20,
   "metadata": {},
   "outputs": [
    {
     "data": {
      "text/plain": [
       "'int32'"
      ]
     },
     "execution_count": 20,
     "metadata": {},
     "output_type": "execute_result"
    }
   ],
   "source": [
    "arr.dtype.name                                 # To check the data type of the array"
   ]
  },
  {
   "cell_type": "code",
   "execution_count": 21,
   "metadata": {},
   "outputs": [
    {
     "data": {
      "text/plain": [
       "4"
      ]
     },
     "execution_count": 21,
     "metadata": {},
     "output_type": "execute_result"
    }
   ],
   "source": [
    "arr.itemsize                                  # To check the itemsize of the array"
   ]
  },
  {
   "cell_type": "code",
   "execution_count": 22,
   "metadata": {},
   "outputs": [
    {
     "data": {
      "text/plain": [
       "18"
      ]
     },
     "execution_count": 22,
     "metadata": {},
     "output_type": "execute_result"
    }
   ],
   "source": [
    "arr.size                                      # To check the size of the array"
   ]
  },
  {
   "cell_type": "markdown",
   "metadata": {},
   "source": [
    "### 2) To create a numpy array\n",
    "\n",
    "Let us create a Numpy array from a Python object such as a list. We are going to create an object my_list and cast it to a numpy array. Here, we will also see some array functions like zeros, ones and empty. Also, we can create a sequence of numbers using Numpy's arange function."
   ]
  },
  {
   "cell_type": "code",
   "execution_count": 1,
   "metadata": {},
   "outputs": [],
   "source": [
    "my_list = [1,2,3]"
   ]
  },
  {
   "cell_type": "code",
   "execution_count": 3,
   "metadata": {},
   "outputs": [
    {
     "data": {
      "text/plain": [
       "[1, 2, 3]"
      ]
     },
     "execution_count": 3,
     "metadata": {},
     "output_type": "execute_result"
    }
   ],
   "source": [
    "# Now, if we display the list, we just have a normal Python list.\n",
    "my_list"
   ]
  },
  {
   "cell_type": "code",
   "execution_count": 4,
   "metadata": {},
   "outputs": [],
   "source": [
    "# Here, we will import the numpy library.\n",
    "import numpy as np"
   ]
  },
  {
   "cell_type": "code",
   "execution_count": 12,
   "metadata": {},
   "outputs": [
    {
     "data": {
      "text/plain": [
       "array([1, 2, 3])"
      ]
     },
     "execution_count": 12,
     "metadata": {},
     "output_type": "execute_result"
    }
   ],
   "source": [
    "# Now we will cast the list as an array. Here we get the array back as the container list object. \n",
    "arr_1 = np.array(my_list)\n",
    "# Calling arr_1\n",
    "arr_1\n",
    "# We get a 1-dimensional array in return."
   ]
  },
  {
   "cell_type": "markdown",
   "metadata": {},
   "source": [
    "Here, we get a 1-dimensional array. If we want a 2-dimensional array, we have to cast a list of lists. Let us create a list my_list_2d which has three lists within it."
   ]
  },
  {
   "cell_type": "code",
   "execution_count": 23,
   "metadata": {},
   "outputs": [
    {
     "data": {
      "text/plain": [
       "array([[1, 2, 3],\n",
       "       [4, 5, 6],\n",
       "       [7, 8, 9]])"
      ]
     },
     "execution_count": 23,
     "metadata": {},
     "output_type": "execute_result"
    }
   ],
   "source": [
    "my_list_2d = [[1,2,3],[4,5,6],[7,8,9]]\n",
    "# Casting my_list_2d to an array, we will get back a 2-dimensional array.\n",
    "np.array(my_list_2d)\n",
    "# This is a 2-dimensional array consisting 3 rows and 3 columns. \n",
    "# This way you can cast a normal Python list or a list of lists to a 2-dimensional array."
   ]
  },
  {
   "cell_type": "markdown",
   "metadata": {},
   "source": [
    "There are several functions that Numpy offers to create arrays and initialize its datatype. By default, float64 is the default dtype of a created array.\n",
    "1. The function zeros creates an array full of zeros.\n",
    "2. The function ones creates an array full of ones.\n",
    "3. The function empty creates an array of random contents initially depending on the state of memory."
   ]
  },
  {
   "cell_type": "code",
   "execution_count": 39,
   "metadata": {},
   "outputs": [
    {
     "data": {
      "text/plain": [
       "array([[0., 0., 0.],\n",
       "       [0., 0., 0.],\n",
       "       [0., 0., 0.]])"
      ]
     },
     "execution_count": 39,
     "metadata": {},
     "output_type": "execute_result"
    }
   ],
   "source": [
    "# This creates a 3*3 array full of zeros.\n",
    "np.zeros((3,3))"
   ]
  },
  {
   "cell_type": "code",
   "execution_count": 40,
   "metadata": {},
   "outputs": [
    {
     "data": {
      "text/plain": [
       "array([[1, 1, 1, 1],\n",
       "       [1, 1, 1, 1],\n",
       "       [1, 1, 1, 1],\n",
       "       [1, 1, 1, 1]], dtype=int16)"
      ]
     },
     "execution_count": 40,
     "metadata": {},
     "output_type": "execute_result"
    }
   ],
   "source": [
    "# This creates a 4*4 array full of ones \n",
    "np.ones((4,4), dtype=np.int16)"
   ]
  },
  {
   "cell_type": "code",
   "execution_count": 42,
   "metadata": {},
   "outputs": [
    {
     "data": {
      "text/plain": [
       "array([[1.08794283e-311, 4.94065646e-324],\n",
       "       [0.00000000e+000, 0.00000000e+000]])"
      ]
     },
     "execution_count": 42,
     "metadata": {},
     "output_type": "execute_result"
    }
   ],
   "source": [
    "# The empty function creates an array of 2*2 random and uninitialized values.\n",
    "np.empty((2,2))"
   ]
  },
  {
   "cell_type": "markdown",
   "metadata": {},
   "source": [
    "We can also create a sequence of numbers. We have to specify the start point, last point and the range. The arange function helps us to acheive this. "
   ]
  },
  {
   "cell_type": "code",
   "execution_count": 43,
   "metadata": {},
   "outputs": [
    {
     "data": {
      "text/plain": [
       "array([ 4,  8, 12, 16, 20])"
      ]
     },
     "execution_count": 43,
     "metadata": {},
     "output_type": "execute_result"
    }
   ],
   "source": [
    "# To create a sequence of numbers from 4 to 24, having a range of 4.\n",
    "np.arange(4,24,4)\n",
    "# Here, 4 is the starting point and 24 is the ending point for the sequence.\n",
    "# The range is specified in the end. Here, it is 4."
   ]
  },
  {
   "cell_type": "code",
   "execution_count": 44,
   "metadata": {},
   "outputs": [
    {
     "data": {
      "text/plain": [
       "array([1. , 1.5, 2. , 2.5, 3. , 3.5, 4. , 4.5, 5. , 5.5, 6. ])"
      ]
     },
     "execution_count": 44,
     "metadata": {},
     "output_type": "execute_result"
    }
   ],
   "source": [
    "# The arange function also accepts float arguments.\n",
    "np.arange(1.0,6.5,0.5)\n",
    "# Here, we get an array of elements starting from 1.0 to 6.5 and having a range of 0.5."
   ]
  },
  {
   "cell_type": "markdown",
   "metadata": {},
   "source": [
    "### 3) Printing arrays.\n",
    "\n",
    "When we want to print an array, Numpy displays it in the form of nested lists. One dimensional arrays are printed as rows, Bidimensionals are printed as matrices and Tridimensionals are printed as a list of matrices.\n"
   ]
  },
  {
   "cell_type": "code",
   "execution_count": 46,
   "metadata": {},
   "outputs": [
    {
     "name": "stdout",
     "output_type": "stream",
     "text": [
      "[0 1 2 3 4 5 6 7 8 9]\n"
     ]
    }
   ],
   "source": [
    "# Let us create a 1-dimensional array of numbers from 0 to 9.\n",
    "a1 = np.arange(10)\n",
    "# Now, we can use the print function to print a1.\n",
    "print(a1)"
   ]
  },
  {
   "cell_type": "code",
   "execution_count": 47,
   "metadata": {},
   "outputs": [
    {
     "name": "stdout",
     "output_type": "stream",
     "text": [
      "[[ 0  1  2  3  4]\n",
      " [ 5  6  7  8  9]\n",
      " [10 11 12 13 14]]\n"
     ]
    }
   ],
   "source": [
    "# To create a 2-dimensional array of 3*5, we can create it for numbers from 0 to 15.\n",
    "a2 = np.arange(15).reshape(3,5)\n",
    "# Printing a2 to obtain a 2-dimensional array.\n",
    "print(a2)"
   ]
  },
  {
   "cell_type": "code",
   "execution_count": 48,
   "metadata": {},
   "outputs": [
    {
     "name": "stdout",
     "output_type": "stream",
     "text": [
      "[[[ 0  1  2]\n",
      "  [ 3  4  5]\n",
      "  [ 6  7  8]]\n",
      "\n",
      " [[ 9 10 11]\n",
      "  [12 13 14]\n",
      "  [15 16 17]]\n",
      "\n",
      " [[18 19 20]\n",
      "  [21 22 23]\n",
      "  [24 25 26]]]\n"
     ]
    }
   ],
   "source": [
    "# To create a 3-dimensional array of 27 numbers.\n",
    "a3 = np.arange(27).reshape(3,3,3)\n",
    "# Printing a3 to obtain 3 matrices.\n",
    "print(a3)"
   ]
  },
  {
   "cell_type": "markdown",
   "metadata": {},
   "source": [
    "When an array is too large to be printed, Numpy skips the central part of the array and prints only the corners. We can see this in 1-dimensional and 2-dimensional arrays."
   ]
  },
  {
   "cell_type": "code",
   "execution_count": 61,
   "metadata": {},
   "outputs": [
    {
     "name": "stdout",
     "output_type": "stream",
     "text": [
      "[ 0  1  2  3  4  5  6  7  8  9 10 11 12 13 14 15 16 17 18 19 20 21 22 23\n",
      " 24 25 26 27 28 29 30 31 32 33 34 35 36 37 38 39 40 41 42 43 44 45 46 47\n",
      " 48 49 50 51 52 53 54 55 56 57 58 59 60 61 62 63 64 65 66 67 68 69 70 71\n",
      " 72 73 74 75 76 77 78 79 80 81 82 83 84 85 86 87 88 89 90 91 92 93 94 95\n",
      " 96 97 98 99]\n"
     ]
    }
   ],
   "source": [
    "# In 1-dimensional arrays, if the array is printable, such as an array of 100 elements, Numpy prints it.\n",
    "print(np.arange(100))"
   ]
  },
  {
   "cell_type": "code",
   "execution_count": 64,
   "metadata": {},
   "outputs": [
    {
     "name": "stdout",
     "output_type": "stream",
     "text": [
      "[   0    1    2 ... 9997 9998 9999]\n"
     ]
    }
   ],
   "source": [
    "# This is not possible when we try to print an array of 10000 elements.\n",
    "print(np.arange(10000))"
   ]
  },
  {
   "cell_type": "code",
   "execution_count": 65,
   "metadata": {},
   "outputs": [
    {
     "name": "stdout",
     "output_type": "stream",
     "text": [
      "[[   0    1    2 ...  997  998  999]\n",
      " [1000 1001 1002 ... 1997 1998 1999]\n",
      " [2000 2001 2002 ... 2997 2998 2999]\n",
      " ...\n",
      " [7000 7001 7002 ... 7997 7998 7999]\n",
      " [8000 8001 8002 ... 8997 8998 8999]\n",
      " [9000 9001 9002 ... 9997 9998 9999]]\n"
     ]
    }
   ],
   "source": [
    "# In 2-dimensional arrays, we can see a similar output.\n",
    "print(np.arange(10000).reshape(10,1000))"
   ]
  },
  {
   "cell_type": "markdown",
   "metadata": {},
   "source": [
    "You can disable this behaviour and force Numpy to print the entire array by changing the printing options using set_printoptions."
   ]
  },
  {
   "cell_type": "markdown",
   "metadata": {},
   "source": [
    "### 4) Basic operations on arrays.\n",
    "\n",
    "In Numpy arrays, arithemetic operations apply elementwise. When we perform an arithmetic operation on an array, we get a new array filled with the result. We can perform addition, substraction, multiplication and trignometric operations on arrays."
   ]
  },
  {
   "cell_type": "code",
   "execution_count": 52,
   "metadata": {},
   "outputs": [
    {
     "name": "stdout",
     "output_type": "stream",
     "text": [
      "[0 1 2 3 4]\n",
      "[5 6 7 8 9]\n"
     ]
    }
   ],
   "source": [
    "# Let us start by creating two arrays X and Y.\n",
    "X = np.arange(5)\n",
    "Y = np.arange(5,10)\n",
    "print(X)\n",
    "print(Y)"
   ]
  },
  {
   "cell_type": "code",
   "execution_count": 53,
   "metadata": {},
   "outputs": [
    {
     "name": "stdout",
     "output_type": "stream",
     "text": [
      "[ 5  7  9 11 13]\n"
     ]
    }
   ],
   "source": [
    "# Adding X and Y and storing the array in C.\n",
    "C = X+Y\n",
    "print(C)"
   ]
  },
  {
   "cell_type": "code",
   "execution_count": 54,
   "metadata": {},
   "outputs": [
    {
     "name": "stdout",
     "output_type": "stream",
     "text": [
      "[5 5 5 5 5]\n"
     ]
    }
   ],
   "source": [
    "# Substracting X from Y and storing the array in B.\n",
    "B = Y-X\n",
    "print(B)"
   ]
  },
  {
   "cell_type": "code",
   "execution_count": 55,
   "metadata": {},
   "outputs": [
    {
     "name": "stdout",
     "output_type": "stream",
     "text": [
      "[ 0  6 14 24 36]\n"
     ]
    }
   ],
   "source": [
    "# Multiplying X and Y and storing the array in A\n",
    "A = X*Y\n",
    "print(A)"
   ]
  },
  {
   "cell_type": "code",
   "execution_count": 57,
   "metadata": {},
   "outputs": [
    {
     "name": "stdout",
     "output_type": "stream",
     "text": [
      "[   0   36  196  576 1296]\n"
     ]
    }
   ],
   "source": [
    "# To find the square of the numbers in the array.\n",
    "D = A**2\n",
    "print(D)"
   ]
  },
  {
   "cell_type": "code",
   "execution_count": 59,
   "metadata": {},
   "outputs": [
    {
     "name": "stdout",
     "output_type": "stream",
     "text": [
      "[-9.58924275  6.56986599  4.12118485 -9.99990207  4.20167037]\n"
     ]
    }
   ],
   "source": [
    "# Performing sin operation on array C.\n",
    "E = 10*np.sin(C)\n",
    "print(E)"
   ]
  },
  {
   "cell_type": "code",
   "execution_count": 67,
   "metadata": {},
   "outputs": [
    {
     "name": "stdout",
     "output_type": "stream",
     "text": [
      "[[1 2]\n",
      " [3 4]]\n",
      "[[5 6]\n",
      " [7 8]]\n"
     ]
    },
    {
     "data": {
      "text/plain": [
       "array([[ 5, 12],\n",
       "       [21, 32]])"
      ]
     },
     "execution_count": 67,
     "metadata": {},
     "output_type": "execute_result"
    }
   ],
   "source": [
    "# To find the product of 2 matrices, elementwise, let us define 2 matrices first.\n",
    "X = np.array([[1,2],[3,4]])\n",
    "Y = np.array([[5,6],[7,8]])\n",
    "print(X)\n",
    "print(Y)\n",
    "X*Y                            # This line gives the product of X and Y elementwise"
   ]
  },
  {
   "cell_type": "code",
   "execution_count": 68,
   "metadata": {},
   "outputs": [
    {
     "data": {
      "text/plain": [
       "array([[19, 22],\n",
       "       [43, 50]])"
      ]
     },
     "execution_count": 68,
     "metadata": {},
     "output_type": "execute_result"
    }
   ],
   "source": [
    "# To find the matrix product of X and Y.\n",
    "X@Y"
   ]
  },
  {
   "cell_type": "code",
   "execution_count": 70,
   "metadata": {},
   "outputs": [
    {
     "data": {
      "text/plain": [
       "array([[19, 22],\n",
       "       [43, 50]])"
      ]
     },
     "execution_count": 70,
     "metadata": {},
     "output_type": "execute_result"
    }
   ],
   "source": [
    "# To find the matrix product of X and Y using dot function.\n",
    "X.dot(Y)"
   ]
  },
  {
   "cell_type": "code",
   "execution_count": 71,
   "metadata": {},
   "outputs": [
    {
     "name": "stdout",
     "output_type": "stream",
     "text": [
      "[[0.30157729 0.75450893 0.07513115]\n",
      " [0.5072543  0.53332961 0.87509714]\n",
      " [0.04207076 0.43089323 0.80929231]]\n"
     ]
    },
    {
     "data": {
      "text/plain": [
       "4.329154712961226"
      ]
     },
     "execution_count": 71,
     "metadata": {},
     "output_type": "execute_result"
    }
   ],
   "source": [
    "# You can find the of an array using the sum() function.\n",
    "A = np.random.random((3,3))\n",
    "print(A)\n",
    "A.sum()                       # Using the sum() function on A."
   ]
  },
  {
   "cell_type": "code",
   "execution_count": 130,
   "metadata": {},
   "outputs": [
    {
     "data": {
      "text/plain": [
       "(-2.3159418062661875e-13-70j)"
      ]
     },
     "execution_count": 130,
     "metadata": {},
     "output_type": "execute_result"
    }
   ],
   "source": [
    "# To find the minimum element of the array using min() function.\n",
    "A.min()"
   ]
  },
  {
   "cell_type": "code",
   "execution_count": 73,
   "metadata": {},
   "outputs": [
    {
     "data": {
      "text/plain": [
       "0.8750971379846533"
      ]
     },
     "execution_count": 73,
     "metadata": {},
     "output_type": "execute_result"
    }
   ],
   "source": [
    "# To find the maximum element of the array using max() function.\n",
    "A.max()"
   ]
  },
  {
   "cell_type": "markdown",
   "metadata": {},
   "source": [
    "### 5) Indexing, slicing and Iterating\n",
    "\n",
    "You can index, slice and iterate both 1-dimensional and multi-dimensional arrays. In 1-dimensional arrays, these operations are performed much like lists. "
   ]
  },
  {
   "cell_type": "code",
   "execution_count": 75,
   "metadata": {},
   "outputs": [
    {
     "name": "stdout",
     "output_type": "stream",
     "text": [
      "[ 0 10 20 30 40 50 60 70 80 90]\n"
     ]
    }
   ],
   "source": [
    "# Let us create a 1-dimensional array of 10 numbers.\n",
    "Z = np.arange(0,100,10)\n",
    "print(Z)"
   ]
  },
  {
   "cell_type": "code",
   "execution_count": 76,
   "metadata": {},
   "outputs": [
    {
     "data": {
      "text/plain": [
       "50"
      ]
     },
     "execution_count": 76,
     "metadata": {},
     "output_type": "execute_result"
    }
   ],
   "source": [
    "# INDEXING\n",
    "# To find the element at index 5 in the array Z.\n",
    "Z[5]"
   ]
  },
  {
   "cell_type": "code",
   "execution_count": 78,
   "metadata": {},
   "outputs": [
    {
     "data": {
      "text/plain": [
       "array([20, 30, 40, 50])"
      ]
     },
     "execution_count": 78,
     "metadata": {},
     "output_type": "execute_result"
    }
   ],
   "source": [
    "# SLICING\n",
    "# To fetch elements 20,30,40 and 50 from the array Z.\n",
    "Z[2:6]"
   ]
  },
  {
   "cell_type": "code",
   "execution_count": 79,
   "metadata": {},
   "outputs": [
    {
     "name": "stdout",
     "output_type": "stream",
     "text": [
      "0.0\n",
      "1.0\n",
      "2.0\n",
      "3.0\n",
      "4.0\n",
      "5.0\n",
      "6.0\n",
      "7.0\n",
      "8.0\n",
      "9.0\n"
     ]
    }
   ],
   "source": [
    "# ITERATION\n",
    "# To iterate along the array Z and print the array when divided by 10.\n",
    "for i in Z:\n",
    "    print(i/10)"
   ]
  },
  {
   "cell_type": "markdown",
   "metadata": {},
   "source": [
    "You can also index, slice and iterate through a multi-dimensional array. These arrays have one index per axis."
   ]
  },
  {
   "cell_type": "code",
   "execution_count": 81,
   "metadata": {},
   "outputs": [
    {
     "name": "stdout",
     "output_type": "stream",
     "text": [
      "[[ 0  3  6]\n",
      " [ 9 12 15]\n",
      " [18 21 24]]\n"
     ]
    }
   ],
   "source": [
    "# Let us create a multi-dimensional array.\n",
    "A = np.arange(0,27,3).reshape(3,3)\n",
    "print(A)"
   ]
  },
  {
   "cell_type": "code",
   "execution_count": 92,
   "metadata": {},
   "outputs": [
    {
     "data": {
      "text/plain": [
       "12"
      ]
     },
     "execution_count": 92,
     "metadata": {},
     "output_type": "execute_result"
    }
   ],
   "source": [
    "# INDEXING\n",
    "# To fetch the value 12 from the array A.\n",
    "A[1,1]"
   ]
  },
  {
   "cell_type": "code",
   "execution_count": 86,
   "metadata": {},
   "outputs": [
    {
     "data": {
      "text/plain": [
       "array([[ 9, 12, 15],\n",
       "       [18, 21, 24]])"
      ]
     },
     "execution_count": 86,
     "metadata": {},
     "output_type": "execute_result"
    }
   ],
   "source": [
    "# SLICING\n",
    "# To fetch the second and third rows from the array A.\n",
    "A[1:3,]"
   ]
  },
  {
   "cell_type": "code",
   "execution_count": 87,
   "metadata": {},
   "outputs": [
    {
     "data": {
      "text/plain": [
       "array([[12, 15],\n",
       "       [21, 24]])"
      ]
     },
     "execution_count": 87,
     "metadata": {},
     "output_type": "execute_result"
    }
   ],
   "source": [
    "# T0 fetch 12,15,21 and 24 from the array A.\n",
    "A[1:3,1:3]"
   ]
  },
  {
   "cell_type": "code",
   "execution_count": 91,
   "metadata": {},
   "outputs": [
    {
     "name": "stdout",
     "output_type": "stream",
     "text": [
      "0\n",
      "30\n",
      "60\n",
      "90\n",
      "120\n",
      "150\n",
      "180\n",
      "210\n",
      "240\n"
     ]
    }
   ],
   "source": [
    "# ITERATION\n",
    "# To iterate through the array A and print the elements with a specific operation on them.\n",
    "# We have to use the flat attribute which is used to iterate over all the elements within an array.\n",
    "for i in A.flat:\n",
    "    print(i*10)"
   ]
  },
  {
   "cell_type": "markdown",
   "metadata": {},
   "source": [
    "***"
   ]
  },
  {
   "cell_type": "markdown",
   "metadata": {},
   "source": [
    "# B. SciPy\n",
    "\n",
    "Scipy is a scientific library and it contains various sub packages to perform scientific computations. It is easy to use and can operate on an array of Numpy library. \n",
    "\n",
    "The main features of Scipy include:\n",
    "1. It is built on top of Numpy.\n",
    "2. It contains all the features of Linear Algebra while Numpy contains only some.\n",
    "3. Most of the latest Data Science features are available in Scipy."
   ]
  },
  {
   "cell_type": "markdown",
   "metadata": {},
   "source": [
    "The standard method to import SciPy modules an NumPy is:\n",
    "\n",
    "                                        from scipy import special\n",
    "                                        import numpy as np"
   ]
  },
  {
   "cell_type": "markdown",
   "metadata": {},
   "source": [
    "### 1) File Input / Output package:\n",
    "Scipy I/O package works with a wide range of functions with different file formats such as Matlab, Matrix format, Arff, Wave, IDL, NetCDF, CSV, TXT and Binary format.\n",
    "\n",
    "Let us take Matlab file format to demonstrate this:"
   ]
  },
  {
   "cell_type": "code",
   "execution_count": 105,
   "metadata": {},
   "outputs": [
    {
     "name": "stdout",
     "output_type": "stream",
     "text": [
      "{'__header__': b'MATLAB 5.0 MAT-file Platform: nt, Created on: Sun Sep 22 19:50:23 2019', '__version__': '1.0', '__globals__': [], 'scipy.mat': array([[1., 1., 1., 1., 1.],\n",
      "       [1., 1., 1., 1., 1.],\n",
      "       [1., 1., 1., 1., 1.],\n",
      "       [1., 1., 1., 1., 1.],\n",
      "       [1., 1., 1., 1., 1.]])}\n"
     ]
    }
   ],
   "source": [
    "import scipy.io as si\n",
    "import numpy as np\n",
    "\n",
    "scipy = np.ones((5,5))\n",
    "si.savemat('scipy', {'scipy.mat': scipy})                   # Saving the matlab file.\n",
    "\n",
    "scipy_mat = si.loadmat('scipy.mat')                         # Loading the matlab file\n",
    "print (scipy_mat)                                           # Printing the output"
   ]
  },
  {
   "cell_type": "markdown",
   "metadata": {},
   "source": [
    "### 2) Special Function Package\n",
    "\n",
    "scipy.special package contains various mathematical physics functions. Scipy special function includes cubic root, exponential, permutations and combinations, etc. Let us see some of them."
   ]
  },
  {
   "cell_type": "markdown",
   "metadata": {},
   "source": [
    "#### a. Cubic root function\n",
    "This function find the cube root of values. \n",
    "\n",
    "                                       Syntax: scipy.special.cbrt(x)"
   ]
  },
  {
   "cell_type": "code",
   "execution_count": 107,
   "metadata": {},
   "outputs": [
    {
     "name": "stdout",
     "output_type": "stream",
     "text": [
      "[5. 6.]\n"
     ]
    }
   ],
   "source": [
    "from scipy.special import cbrt\n",
    "# To find the cube root of 125 and 216 using cbrt() function\n",
    "scipy_cb = cbrt([125, 216])\n",
    "print(scipy_cb)                              # Print cube root values."
   ]
  },
  {
   "cell_type": "markdown",
   "metadata": {},
   "source": [
    "#### b. Exponential function\n",
    "This function computes 10**(x) element-wise."
   ]
  },
  {
   "cell_type": "code",
   "execution_count": 108,
   "metadata": {},
   "outputs": [
    {
     "name": "stdout",
     "output_type": "stream",
     "text": [
      "[1.e+04 1.e+50]\n"
     ]
    }
   ],
   "source": [
    "from scipy.special import exp10\n",
    "scipy_exp = exp10([4,50])                               # defining exp10 value.\n",
    "print(scipy_exp)"
   ]
  },
  {
   "cell_type": "markdown",
   "metadata": {},
   "source": [
    "#### c. Permutations and combinations\n",
    "We can compute permutations and combinations using the scipy package.\n",
    "                        \n",
    "                            Syntax of combinations: scipy.special.comb(X,i)\n",
    "                            Syntax of permutations: scipy.special.perm(X,i)"
   ]
  },
  {
   "cell_type": "code",
   "execution_count": 111,
   "metadata": {},
   "outputs": [
    {
     "name": "stdout",
     "output_type": "stream",
     "text": [
      "2002.0\n"
     ]
    }
   ],
   "source": [
    "# To find the combinations: \n",
    "from scipy.special import comb\n",
    "scipy_comb = comb(10, 5, exact = False, repetition=True)     # finding the combination of 10 and 5.\n",
    "print(scipy_comb)"
   ]
  },
  {
   "cell_type": "code",
   "execution_count": 112,
   "metadata": {},
   "outputs": [
    {
     "name": "stdout",
     "output_type": "stream",
     "text": [
      "30240\n"
     ]
    }
   ],
   "source": [
    "# To find the permutations:\n",
    "from scipy.special import perm\n",
    "scipy_perm = perm(10, 5, exact = True)                      # finding the permutation of 10 and 5.\n",
    "print(scipy_perm)"
   ]
  },
  {
   "cell_type": "markdown",
   "metadata": {},
   "source": [
    "### 3) Linear Algebra Package\n",
    "Linear Algebra accepts a 2-dimensional array in input and gives a 2-dimensional array as output. It is an implementation of BLAS and ATLAS LAPACK libraries. We compute the same using scipy.linalg library."
   ]
  },
  {
   "cell_type": "markdown",
   "metadata": {},
   "source": [
    "#### a. To calculate the determinant of a 2-dimensional matrix. "
   ]
  },
  {
   "cell_type": "code",
   "execution_count": 116,
   "metadata": {},
   "outputs": [
    {
     "data": {
      "text/plain": [
       "-1.9999999999999982"
      ]
     },
     "execution_count": 116,
     "metadata": {},
     "output_type": "execute_result"
    }
   ],
   "source": [
    "from scipy import linalg\n",
    "import numpy as np\n",
    "scipy_2d = np.array([[5,6], [7,8]])                 # defining a 2-dimensional matrix.\n",
    "linalg.det(scipy_2d)                                # passing values to the det() function."
   ]
  },
  {
   "cell_type": "markdown",
   "metadata": {},
   "source": [
    "#### b. To find the inverse of a 2-dimensional matrix."
   ]
  },
  {
   "cell_type": "code",
   "execution_count": 119,
   "metadata": {},
   "outputs": [
    {
     "data": {
      "text/plain": [
       "array([[-4. ,  3. ],\n",
       "       [ 3.5, -2.5]])"
      ]
     },
     "execution_count": 119,
     "metadata": {},
     "output_type": "execute_result"
    }
   ],
   "source": [
    "from scipy import linalg\n",
    "import numpy as np\n",
    "scipy_inv = np.array([[5,6], [7,8]])                 # defining a 2-dimensional matrix.\n",
    "linalg.inv(scipy_inv)                                # passing values to the inv() function."
   ]
  },
  {
   "cell_type": "markdown",
   "metadata": {},
   "source": [
    "### 4) Discrete Fourier Transform\n",
    "We can find the Discrete Fourier Transform using scipy.fftpack package. Discrete Fourier Transform is a mathematical function to convert spatial data into frequency data. Fast Fourier Transform is applied to multi-dimensional arrays and is an algorithm used to compute DFT. \n",
    "\n",
    "Let us compute the magnitude of a signal using examples for frequency."
   ]
  },
  {
   "cell_type": "code",
   "execution_count": 128,
   "metadata": {},
   "outputs": [
    {
     "name": "stderr",
     "output_type": "stream",
     "text": [
      "C:\\Users\\ayaka\\Anaconda3\\lib\\site-packages\\ipykernel_launcher.py:17: UserWarning: In Matplotlib 3.3 individual lines on a stem plot will be added as a LineCollection instead of individual lines. This significantly improves the performance of a stem plot. To remove this warning and switch to the new behaviour, set the \"use_line_collection\" keyword argument to True.\n"
     ]
    },
    {
     "data": {
      "image/png": "[encoded data removed]",
      "text/plain": [
       "<Figure size 432x288 with 1 Axes>"
      ]
     },
     "metadata": {
      "needs_background": "light"
     },
     "output_type": "display_data"
    }
   ],
   "source": [
    "from matplotlib import pyplot as pt\n",
    "import numpy as np \n",
    "from scipy import fftpack\n",
    "\n",
    "#Frequency in terms of Hertz\n",
    "freq  = 7 \n",
    "#Sample rate\n",
    "samp_freq = 70\n",
    "\n",
    "t = np.linspace(0, 2, 2 * samp_freq, endpoint = False )\n",
    "x = np.sin(freq  * 2 * np.pi * t)\n",
    "\n",
    "A = fftpack.fft(x)\n",
    "frequency = fftpack.fftfreq(len(x)) * samp_freq\n",
    "figure, axis = pt.subplots()\n",
    "\n",
    "axis.stem(frequency, np.abs(A))\n",
    "axis.set_xlabel('Frequency in Hz')\n",
    "axis.set_ylabel('Frequency Spectrum Magnitude')\n",
    "axis.set_xlim(-samp_freq / 2, samp_freq/ 2)\n",
    "axis.set_ylim(-7, 120)\n",
    "pt.show()"
   ]
  },
  {
   "cell_type": "markdown",
   "metadata": {},
   "source": [
    "There are multiple other packages in SciPy to perform scientific calculations.\n",
    "1. scipy.io               : For file input/output\n",
    "2. scipy.special          : For using special functions\n",
    "3. scipy.linalg           : For performing Linear Algebric operations\n",
    "4. scipy.interpolate      : For performing interpolation\n",
    "5. scipy.optimize         : For optimization and fit\n",
    "6. scipy.stats            : For performing computations on statistics and random numbers\n",
    "7. scipy.integrate        : For solving Numerical integration problems\n",
    "8. scipy.fftpack          : For computing fast fourier transforms\n",
    "9. scipy.signal           : For signal processing\n",
    "10. scipy.ndimage         : For image manipulation"
   ]
  },
  {
   "cell_type": "markdown",
   "metadata": {},
   "source": [
    "***"
   ]
  },
  {
   "cell_type": "markdown",
   "metadata": {},
   "source": [
    "### CITATIONS"
   ]
  },
  {
   "cell_type": "markdown",
   "metadata": {},
   "source": [
    "1. https://www.udemy.com/python-for-data-science-and-machine-learning-bootcamp/learn/lecture/5733190?start=195#overview\n",
    "2. https://docs.scipy.org/doc/numpy/user/quickstart.html\n",
    "3. https://www.guru99.com/scipy-tutorial.html"
   ]
  }
 ],
 "metadata": {
  "kernelspec": {
   "display_name": "Python 3",
   "language": "python",
   "name": "python3"
  },
  "language_info": {
   "codemirror_mode": {
    "name": "ipython",
    "version": 3
   },
   "file_extension": ".py",
   "mimetype": "text/x-python",
   "name": "python",
   "nbconvert_exporter": "python",
   "pygments_lexer": "ipython3",
   "version": "3.7.3"
  }
 },
 "nbformat": 4,
 "nbformat_minor": 2
}
