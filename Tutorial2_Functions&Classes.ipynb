{
 "cells": [
  {
   "cell_type": "markdown",
   "metadata": {},
   "source": [
    "# 1. Dictionaries in Python"
   ]
  },
  {
   "cell_type": "markdown",
   "metadata": {},
   "source": [
    "A python dictionary is a collection of key-value pairs that are unordered, mutable and indexed. We have to use a set of curly brackets to create a dictionary. Also, each key and value have to be separated by a colon and with commas, between each pair. A dictionary should have unique keys, but values can be repeated. Dictionaries are mutable, that means they can be changed. Also, they are dynamic in nature. We can create, modify, remove specific items from the dictionary, and perform multiple operations on them."
   ]
  },
  {
   "cell_type": "markdown",
   "metadata": {},
   "source": [
    "**1) To create a Dictionary**"
   ]
  },
  {
   "cell_type": "markdown",
   "metadata": {},
   "source": [
    "We can create a dictionary by placing a set of key-value pairs within {} curly brackets. Let us create an empty dictionay to start with. An empty dictionary can be defined with the name of the dictionary along with empty {} curly brackets."
   ]
  },
  {
   "cell_type": "code",
   "execution_count": 1,
   "metadata": {},
   "outputs": [
    {
     "name": "stdout",
     "output_type": "stream",
     "text": [
      "{}\n"
     ]
    }
   ],
   "source": [
    "empty_dict = {}\n",
    "print(empty_dict)"
   ]
  },
  {
   "cell_type": "markdown",
   "metadata": {},
   "source": [
    "We can create a dictionary using python's built-in dict() function. Let us create two dictionaries, with and without the dict() function."
   ]
  },
  {
   "cell_type": "code",
   "execution_count": 84,
   "metadata": {},
   "outputs": [
    {
     "name": "stdout",
     "output_type": "stream",
     "text": [
      "{'brand': 'lenovo', 'model': 'yoga 730', 'year': '2019'}\n"
     ]
    }
   ],
   "source": [
    "#This is without using the dict() function.\n",
    "shop_dict = {\n",
    "    \"brand\" : \"lenovo\",\n",
    "    \"model\" : \"yoga 730\",\n",
    "    \"year\" : \"2019\"\n",
    "}\n",
    "print(shop_dict)"
   ]
  },
  {
   "cell_type": "code",
   "execution_count": 86,
   "metadata": {},
   "outputs": [
    {
     "name": "stdout",
     "output_type": "stream",
     "text": [
      "{'cereals': 'oats', 'vegetables': 'carrots', 'fruits': 'apples'}\n"
     ]
    }
   ],
   "source": [
    "# This is using the dict function.\n",
    "food = dict({\"cereals\" : \"oats\", \"vegetables\" : \"carrots\", \"fruits\" : \"apples\"})\n",
    "print(food)"
   ]
  },
  {
   "cell_type": "markdown",
   "metadata": {},
   "source": [
    "**2) To access items of a dictionary**"
   ]
  },
  {
   "cell_type": "markdown",
   "metadata": {},
   "source": [
    "You can access the value of a particular key by wrapping the key around square brackets. You can also use the get() method also to access the values. Let us get the value of the \"model\" key from the shop_dict dictionary."
   ]
  },
  {
   "cell_type": "code",
   "execution_count": 6,
   "metadata": {},
   "outputs": [
    {
     "data": {
      "text/plain": [
       "'yoga 730'"
      ]
     },
     "execution_count": 6,
     "metadata": {},
     "output_type": "execute_result"
    }
   ],
   "source": [
    "shop_dict[\"model\"]"
   ]
  },
  {
   "cell_type": "code",
   "execution_count": 7,
   "metadata": {},
   "outputs": [
    {
     "data": {
      "text/plain": [
       "'yoga 730'"
      ]
     },
     "execution_count": 7,
     "metadata": {},
     "output_type": "execute_result"
    }
   ],
   "source": [
    "# You can use the get() function on the above example to get the same ouput.\n",
    "shop_dict.get(\"model\")"
   ]
  },
  {
   "cell_type": "markdown",
   "metadata": {},
   "source": [
    "**3) To change values in a dictionary.**"
   ]
  },
  {
   "cell_type": "markdown",
   "metadata": {},
   "source": [
    "You can change the values in a dictionary by referring to its key. \n",
    "Let us change the value of the \"model\" key within the shop_dict dictionary."
   ]
  },
  {
   "cell_type": "code",
   "execution_count": 75,
   "metadata": {},
   "outputs": [
    {
     "name": "stdout",
     "output_type": "stream",
     "text": [
      "{'brand': 'lenovo', 'model': 'yoga 720', 'year': '2019'}\n"
     ]
    }
   ],
   "source": [
    "shop_dict = {\n",
    "    \"brand\" : \"lenovo\",\n",
    "    \"model\" : \"yoga 730\",\n",
    "    \"year\" : \"2019\"\n",
    "}\n",
    "shop_dict[\"model\"] = \"yoga 720\"\n",
    "print(shop_dict)\n",
    "# Here, the value of the \"model\" key gets overridden by new values."
   ]
  },
  {
   "cell_type": "markdown",
   "metadata": {},
   "source": [
    "**4) To get all the keys from the dictionary.**"
   ]
  },
  {
   "cell_type": "markdown",
   "metadata": {},
   "source": [
    "You can use the for loop to loop through the dictionary to get all the keys of the dictionary. Let us use the for loop along the shop_dict dictionary to get all the keys of the dictionary."
   ]
  },
  {
   "cell_type": "code",
   "execution_count": 76,
   "metadata": {},
   "outputs": [
    {
     "name": "stdout",
     "output_type": "stream",
     "text": [
      "brand\n",
      "model\n",
      "year\n"
     ]
    }
   ],
   "source": [
    "shop_dict = {\n",
    "    \"brand\" : \"lenovo\",\n",
    "    \"model\" : \"yoga 730\",\n",
    "    \"year\" : \"2019\"\n",
    "}\n",
    "for x in shop_dict:\n",
    "    print(x)"
   ]
  },
  {
   "cell_type": "markdown",
   "metadata": {},
   "source": [
    "**5) To return all the values from the dictionary.**"
   ]
  },
  {
   "cell_type": "markdown",
   "metadata": {},
   "source": [
    "You can use a for loop to loop through the dictionary to get all the values of the dictionary. Additionally, we have to use the values() method here. Let us use the for loop along the shop_dict dictionary to get all the values of the dictionary."
   ]
  },
  {
   "cell_type": "code",
   "execution_count": 77,
   "metadata": {},
   "outputs": [
    {
     "name": "stdout",
     "output_type": "stream",
     "text": [
      "lenovo\n",
      "yoga 730\n",
      "2019\n"
     ]
    }
   ],
   "source": [
    "shop_dict = {\n",
    "    \"brand\" : \"lenovo\",\n",
    "    \"model\" : \"yoga 730\",\n",
    "    \"year\" : \"2019\"\n",
    "}\n",
    "for x in shop_dict.values():\n",
    "    print(x)"
   ]
  },
  {
   "cell_type": "markdown",
   "metadata": {},
   "source": [
    "**6) To return all the key-value pairs of the dictionary.**"
   ]
  },
  {
   "cell_type": "markdown",
   "metadata": {},
   "source": [
    "You can use the for loop to get all the items of the dictionary. Additionally, we have to use the items() method here. Let's use the for loop along the shop_dict dictionary to get all the items of the dictionary."
   ]
  },
  {
   "cell_type": "code",
   "execution_count": 78,
   "metadata": {},
   "outputs": [
    {
     "name": "stdout",
     "output_type": "stream",
     "text": [
      "brand lenovo\n",
      "model yoga 730\n",
      "year 2019\n"
     ]
    }
   ],
   "source": [
    "shop_dict = {\n",
    "    \"brand\" : \"lenovo\",\n",
    "    \"model\" : \"yoga 730\",\n",
    "    \"year\" : \"2019\"\n",
    "}\n",
    "for x,y in shop_dict.items():\n",
    "    print(x,y)"
   ]
  },
  {
   "cell_type": "markdown",
   "metadata": {},
   "source": [
    "**7) To find the length of a dictionary.**"
   ]
  },
  {
   "cell_type": "markdown",
   "metadata": {},
   "source": [
    "You can use the len() function to get the length of the dictionary. Let us use the len() method on the shop_dict dictionary to demonstrate this."
   ]
  },
  {
   "cell_type": "code",
   "execution_count": 79,
   "metadata": {},
   "outputs": [
    {
     "name": "stdout",
     "output_type": "stream",
     "text": [
      "3\n"
     ]
    }
   ],
   "source": [
    "shop_dict = {\n",
    "    \"brand\" : \"lenovo\",\n",
    "    \"model\" : \"yoga 730\",\n",
    "    \"year\" : \"2019\"\n",
    "}\n",
    "print(len(shop_dict))"
   ]
  },
  {
   "cell_type": "markdown",
   "metadata": {},
   "source": [
    "**8) To add new items to the dictionary.**"
   ]
  },
  {
   "cell_type": "markdown",
   "metadata": {},
   "source": [
    "You can add new items to the dictionary using a new index and assigning it a value. Let us add a \"color\" key to the above shop_dict dictionary. With every addition of item to the dictionary, the length of the dictionary increases."
   ]
  },
  {
   "cell_type": "code",
   "execution_count": 80,
   "metadata": {},
   "outputs": [
    {
     "name": "stdout",
     "output_type": "stream",
     "text": [
      "{'brand': 'lenovo', 'model': 'yoga 730', 'year': '2019', 'color': 'black'}\n"
     ]
    }
   ],
   "source": [
    "shop_dict = {\n",
    "    \"brand\" : \"lenovo\",\n",
    "    \"model\" : \"yoga 730\",\n",
    "    \"year\" : \"2019\"\n",
    "}\n",
    "shop_dict[\"color\"] = \"black\"\n",
    "print(shop_dict)"
   ]
  },
  {
   "cell_type": "markdown",
   "metadata": {},
   "source": [
    "**9) To remove items from the dictionary.**"
   ]
  },
  {
   "cell_type": "markdown",
   "metadata": {},
   "source": [
    "You can use the pop() function to remove a specific item from the dictionary. A particular key has to be passed as a parameter within the pop() function to remove the item."
   ]
  },
  {
   "cell_type": "code",
   "execution_count": 81,
   "metadata": {},
   "outputs": [
    {
     "name": "stdout",
     "output_type": "stream",
     "text": [
      "{'brand': 'lenovo', 'model': 'yoga 730', 'year': '2019'}\n"
     ]
    }
   ],
   "source": [
    "# Let us remove the \"color\" : \"black\" item from the shop_dict dictionary using the pop() function.\n",
    "shop_dict.pop(\"color\")\n",
    "print(shop_dict)"
   ]
  },
  {
   "cell_type": "markdown",
   "metadata": {},
   "source": [
    "You can use the del keyword to remove an item with a specified key name."
   ]
  },
  {
   "cell_type": "code",
   "execution_count": 82,
   "metadata": {},
   "outputs": [
    {
     "name": "stdout",
     "output_type": "stream",
     "text": [
      "{'brand': 'lenovo', 'year': '2019'}\n"
     ]
    }
   ],
   "source": [
    "# Let us remove the \"model\" : \"yoga 730\" from the shop_dict dictionary.\n",
    "del shop_dict[\"model\"]\n",
    "print(shop_dict)"
   ]
  },
  {
   "cell_type": "markdown",
   "metadata": {},
   "source": [
    "**10) To delete a dictionary.**"
   ]
  },
  {
   "cell_type": "markdown",
   "metadata": {},
   "source": [
    "You can use the clear keyword to empty the dictionary. Let us empty the shop_dict dictionary using the clear keyword."
   ]
  },
  {
   "cell_type": "code",
   "execution_count": 83,
   "metadata": {},
   "outputs": [
    {
     "name": "stdout",
     "output_type": "stream",
     "text": [
      "{}\n"
     ]
    }
   ],
   "source": [
    "shop_dict = {\n",
    "    \"brand\" : \"lenovo\",\n",
    "    \"model\" : \"yoga 730\",\n",
    "    \"year\" : \"2019\"\n",
    "}\n",
    "shop_dict.clear()\n",
    "print(shop_dict)"
   ]
  },
  {
   "cell_type": "markdown",
   "metadata": {},
   "source": [
    "Note that the clear keyword only empties the dictionary. You can delete the dictionary using the \"del\" keyword. Let us delete the shop_dict dictionary here."
   ]
  },
  {
   "cell_type": "code",
   "execution_count": 22,
   "metadata": {},
   "outputs": [
    {
     "ename": "NameError",
     "evalue": "name 'shop_dict' is not defined",
     "output_type": "error",
     "traceback": [
      "\u001b[1;31m---------------------------------------------------------------------------\u001b[0m",
      "\u001b[1;31mNameError\u001b[0m                                 Traceback (most recent call last)",
      "\u001b[1;32m<ipython-input-22-73e974580bc7>\u001b[0m in \u001b[0;36m<module>\u001b[1;34m\u001b[0m\n\u001b[0;32m      5\u001b[0m }\n\u001b[0;32m      6\u001b[0m \u001b[1;32mdel\u001b[0m \u001b[0mshop_dict\u001b[0m\u001b[1;33m\u001b[0m\u001b[1;33m\u001b[0m\u001b[0m\n\u001b[1;32m----> 7\u001b[1;33m \u001b[0mprint\u001b[0m\u001b[1;33m(\u001b[0m\u001b[0mshop_dict\u001b[0m\u001b[1;33m)\u001b[0m\u001b[1;33m\u001b[0m\u001b[1;33m\u001b[0m\u001b[0m\n\u001b[0m\u001b[0;32m      8\u001b[0m \u001b[1;31m# This will give an error as the shop_dict dictionary no longer exists.\u001b[0m\u001b[1;33m\u001b[0m\u001b[1;33m\u001b[0m\u001b[1;33m\u001b[0m\u001b[0m\n",
      "\u001b[1;31mNameError\u001b[0m: name 'shop_dict' is not defined"
     ]
    }
   ],
   "source": [
    "shop_dict = {\n",
    "    \"brand\" : \"lenovo\",\n",
    "    \"model\" : \"yoga 730\",\n",
    "    \"year\" : \"2019\"\n",
    "}\n",
    "del shop_dict\n",
    "print(shop_dict)\n",
    "# This will give an error as the shop_dict dictionary no longer exists."
   ]
  },
  {
   "cell_type": "markdown",
   "metadata": {},
   "source": [
    "**11) To copy a dictionary.**"
   ]
  },
  {
   "cell_type": "markdown",
   "metadata": {},
   "source": [
    "You can use the copy() function to copy a dictionary. "
   ]
  },
  {
   "cell_type": "code",
   "execution_count": 24,
   "metadata": {},
   "outputs": [
    {
     "name": "stdout",
     "output_type": "stream",
     "text": [
      "{'brand': 'lenovo', 'model': 'yoga 730', 'year': '2019'}\n"
     ]
    }
   ],
   "source": [
    "shop_dict = {\n",
    "    \"brand\" : \"lenovo\",\n",
    "    \"model\" : \"yoga 730\",\n",
    "    \"year\" : \"2019\"\n",
    "}\n",
    "new_dict_1 = shop_dict.copy()\n",
    "print(new_dict_1)"
   ]
  },
  {
   "cell_type": "markdown",
   "metadata": {},
   "source": [
    "You can use the python's dict() method to to make a copy of the dictionary."
   ]
  },
  {
   "cell_type": "code",
   "execution_count": 25,
   "metadata": {},
   "outputs": [
    {
     "name": "stdout",
     "output_type": "stream",
     "text": [
      "{'brand': 'lenovo', 'model': 'yoga 730', 'year': '2019'}\n"
     ]
    }
   ],
   "source": [
    "shop_dict = {\n",
    "    \"brand\" : \"lenovo\",\n",
    "    \"model\" : \"yoga 730\",\n",
    "    \"year\" : \"2019\"\n",
    "}\n",
    "new_dict_2 = dict(shop_dict)\n",
    "print(new_dict_2)"
   ]
  },
  {
   "cell_type": "markdown",
   "metadata": {},
   "source": [
    "**12) Nested dictionaries**"
   ]
  },
  {
   "cell_type": "markdown",
   "metadata": {},
   "source": [
    "A dictionary can also contain multiple dictionaries, this is called as Nested dictionaries."
   ]
  },
  {
   "cell_type": "code",
   "execution_count": 26,
   "metadata": {},
   "outputs": [
    {
     "name": "stdout",
     "output_type": "stream",
     "text": [
      "{'product1': {'item': 'laptop', 'brand': 'lenovo', 'color': 'blue'}, 'product2': {'item': 'speaker', 'brand': 'jbl', 'color': 'red'}, 'product3': {'item': 'mouse', 'brand': 'logitech', 'color': 'black'}}\n"
     ]
    }
   ],
   "source": [
    "# You can create three dictionaries first.\n",
    "product1 = {\n",
    "    \"item\" : \"laptop\",\n",
    "    \"brand\" : \"lenovo\",\n",
    "    \"color\" : \"blue\"\n",
    "}\n",
    "product2 = {\n",
    "    \"item\" : \"speaker\",\n",
    "    \"brand\" : \"jbl\",\n",
    "    \"color\" : \"red\"\n",
    "}\n",
    "product3 = {\n",
    "    \"item\" : \"mouse\",\n",
    "    \"brand\" : \"logitech\",\n",
    "    \"color\" : \"black\"\n",
    "}\n",
    "\n",
    "# Now, you can create one dictionary that contains the three dictionaries.\n",
    "\n",
    "shopping_cart = {\n",
    "    \"product1\" : product1,\n",
    "    \"product2\" : product2,\n",
    "    \"product3\" : product3\n",
    "}\n",
    "print(shopping_cart)"
   ]
  },
  {
   "cell_type": "markdown",
   "metadata": {},
   "source": [
    "The other built-in dictionary methods in python can be used similarly to manipulate and modify dictionaries."
   ]
  },
  {
   "cell_type": "markdown",
   "metadata": {},
   "source": [
    "***"
   ]
  },
  {
   "cell_type": "markdown",
   "metadata": {},
   "source": [
    "# 2. Functions in python"
   ]
  },
  {
   "cell_type": "markdown",
   "metadata": {},
   "source": [
    "A function is a block of reusable and organized code. It is a convenient way to make the code more readable and reuse it whenever required. It includes a set of statements that take some input, does the specified computation, and produces output. We can write a function with some code within it and call the function multiple times within the application. It will save us from writing the same code again and again. There are some built-in functions in python like print(). You can also create your own functions. These are called user-defined functions."
   ]
  },
  {
   "cell_type": "markdown",
   "metadata": {},
   "source": [
    "**1) To define a function.**"
   ]
  },
  {
   "cell_type": "markdown",
   "metadata": {},
   "source": [
    "A function in python is written with the keyword \"def\" followed by the function name and parantheses. The code block starts with a colon (:) and is indented within a function."
   ]
  },
  {
   "cell_type": "code",
   "execution_count": 29,
   "metadata": {},
   "outputs": [],
   "source": [
    "def function_a():\n",
    "    print(\"This is a python function\")"
   ]
  },
  {
   "cell_type": "markdown",
   "metadata": {},
   "source": [
    "**2) To call a function.**"
   ]
  },
  {
   "cell_type": "markdown",
   "metadata": {},
   "source": [
    "You can call a function in python using the function name followed by parantheses. When you call a specific function, the code within the function definition is excuted."
   ]
  },
  {
   "cell_type": "code",
   "execution_count": 31,
   "metadata": {},
   "outputs": [
    {
     "name": "stdout",
     "output_type": "stream",
     "text": [
      "This is a python function\n"
     ]
    }
   ],
   "source": [
    "def function_a():\n",
    "    print(\"This is a python function\")\n",
    "\n",
    "function_a()"
   ]
  },
  {
   "cell_type": "markdown",
   "metadata": {},
   "source": [
    "**3) Parameter passing.**"
   ]
  },
  {
   "cell_type": "markdown",
   "metadata": {},
   "source": [
    "You can pass information to functions as parameters. You can add as many parameters as required within the parantheses seperating them with a comma. "
   ]
  },
  {
   "cell_type": "code",
   "execution_count": 33,
   "metadata": {},
   "outputs": [
    {
     "name": "stdout",
     "output_type": "stream",
     "text": [
      "My favouraite fruit is apple\n",
      "My favouraite fruit is blueberry\n",
      "My favouraite fruit is mango\n"
     ]
    }
   ],
   "source": [
    "def favFruit(fruit):\n",
    "    print(\"My favouraite fruit is \" +fruit)\n",
    "\n",
    "favFruit(\"apple\")\n",
    "favFruit(\"blueberry\")\n",
    "favFruit(\"mango\")"
   ]
  },
  {
   "cell_type": "markdown",
   "metadata": {},
   "source": [
    "**4) Default parameter passing.**"
   ]
  },
  {
   "cell_type": "markdown",
   "metadata": {},
   "source": [
    "You can set a default parameter within a function along with passing dynamic parameters while calling a function. A default parameter may be helpful when we call a funcion without a parameter. "
   ]
  },
  {
   "cell_type": "code",
   "execution_count": 36,
   "metadata": {},
   "outputs": [
    {
     "name": "stdout",
     "output_type": "stream",
     "text": [
      "My favouraite subject is Analytics for Business Intelligence\n",
      "My favouraite subject is Business Forecasting\n",
      "My favouraite subject is Web analytics\n",
      "My favouraite subject is Data Science\n"
     ]
    }
   ],
   "source": [
    "# In the example below, you can see a default parameter is passed within the parantheses.\n",
    "# Here, data science is the default parameter.\n",
    "def favSubject(subject = \"Data Science\"):\n",
    "    print(\"My favouraite subject is \" +subject)\n",
    "\n",
    "favSubject(\"Analytics for Business Intelligence\")\n",
    "favSubject(\"Business Forecasting\")\n",
    "favSubject(\"Web analytics\")\n",
    "favSubject()"
   ]
  },
  {
   "cell_type": "markdown",
   "metadata": {},
   "source": [
    "**5) Passing a list as a parameter.**"
   ]
  },
  {
   "cell_type": "markdown",
   "metadata": {},
   "source": [
    "You can pass a data type such as list, dicts, strings as parameters within the function. In the below example, each list element is passed as a different parameter in the function. Here, we have a list of 3 elements as course_material and course as a function where each subject is passed."
   ]
  },
  {
   "cell_type": "code",
   "execution_count": 39,
   "metadata": {},
   "outputs": [
    {
     "name": "stdout",
     "output_type": "stream",
     "text": [
      "My favouraite subject is ABI\n",
      "My favouraite subject is IDS\n",
      "My favouraite subject is BF\n"
     ]
    }
   ],
   "source": [
    "def course(subject):\n",
    "    for x in subject:\n",
    "        print(\"My favouraite subject is \"+x)\n",
    "        \n",
    "course_material = [\"ABI\", \"IDS\", \"BF\"]\n",
    "\n",
    "course(course_material)"
   ]
  },
  {
   "cell_type": "markdown",
   "metadata": {},
   "source": [
    "**6) Return values**"
   ]
  },
  {
   "cell_type": "markdown",
   "metadata": {},
   "source": [
    "You can also return a value from the function using the \"return\" statement. The return value is actually an output of the computation that has happened within the function."
   ]
  },
  {
   "cell_type": "code",
   "execution_count": 42,
   "metadata": {},
   "outputs": [
    {
     "name": "stdout",
     "output_type": "stream",
     "text": [
      "12\n",
      "21\n",
      "56\n"
     ]
    }
   ],
   "source": [
    "# Here we have a function that multiplies two numbers. The return value is the multiplication of two numbers that are passed\n",
    "# as parameters within the function.\n",
    "def multiply(a,b):\n",
    "    return a*b\n",
    "\n",
    "print(multiply(3,4))\n",
    "print(multiply(3,7))\n",
    "print(multiply(7,8))"
   ]
  },
  {
   "cell_type": "markdown",
   "metadata": {},
   "source": [
    "**7) Keyword arguments**"
   ]
  },
  {
   "cell_type": "markdown",
   "metadata": {},
   "source": [
    "Keyword arguments are passed as parameters within the function in a key = value pair. In this case, each key is unique, and the value for the specified key will only be computed within the function. Here, the order of arguments does not matter."
   ]
  },
  {
   "cell_type": "code",
   "execution_count": 45,
   "metadata": {},
   "outputs": [
    {
     "name": "stdout",
     "output_type": "stream",
     "text": [
      "I have been to New york\n"
     ]
    }
   ],
   "source": [
    "# Here, 3 arguments are passed to the function but only city2 is used.\n",
    "def func_kwarg(city2, city3, city1):\n",
    "    print(\"I have been to \" +city2)\n",
    "\n",
    "func_kwarg(city1 = \"Boston\", city2 = \"New york\", city3=\"Syracuse\")"
   ]
  },
  {
   "cell_type": "markdown",
   "metadata": {},
   "source": [
    "**8) Arbitrary arguments**"
   ]
  },
  {
   "cell_type": "markdown",
   "metadata": {},
   "source": [
    "Arbitrary arguments come into picture when you don't know the number of arguments that will be passed to your function. Here, you can add a * before the parameter in the function definition. "
   ]
  },
  {
   "cell_type": "code",
   "execution_count": 46,
   "metadata": {},
   "outputs": [
    {
     "name": "stdout",
     "output_type": "stream",
     "text": [
      "My favouraite fruit is mango\n"
     ]
    }
   ],
   "source": [
    "# Here, we have added *fruits as the argument within the function definition.\n",
    "def favFruit(*fruits):\n",
    "    print(\"My favouraite fruit is \" +fruits[3])\n",
    "\n",
    "favFruit(\"apple\", \"strawberry\", \"orange\", \"mango\")"
   ]
  },
  {
   "cell_type": "markdown",
   "metadata": {},
   "source": [
    "***"
   ]
  },
  {
   "cell_type": "markdown",
   "metadata": {},
   "source": [
    "# 3. Classes in python"
   ]
  },
  {
   "cell_type": "markdown",
   "metadata": {},
   "source": [
    "Like other object-oriented programming languages, Python has classes that can be used to bundle data and functionality together. When you create a new class, you have a new type of object and new instances of that type. Each class instance can have methods and attributes associated with it. Python also has a class inheritance mechanism, having multiple base classes and derived classes.\n"
   ]
  },
  {
   "cell_type": "markdown",
   "metadata": {},
   "source": [
    "**1) To create a class.**"
   ]
  },
  {
   "cell_type": "markdown",
   "metadata": {},
   "source": [
    "You can create a class using the class keyword followed by the class name and a colon. We can write multiple methods and attributes within this class."
   ]
  },
  {
   "cell_type": "code",
   "execution_count": 50,
   "metadata": {},
   "outputs": [],
   "source": [
    "# Here, we create a class named myClass and define a integer with a variable i.\n",
    "class myClass:\n",
    "    i = 12345"
   ]
  },
  {
   "cell_type": "markdown",
   "metadata": {},
   "source": [
    "**2) To create an object.**"
   ]
  },
  {
   "cell_type": "markdown",
   "metadata": {},
   "source": [
    "Now, we can use the above myClass class to create objects. Here, myClass has a variable i which is of type int. We can print the string by creating an instance of the myClass class. "
   ]
  },
  {
   "cell_type": "code",
   "execution_count": 51,
   "metadata": {},
   "outputs": [
    {
     "name": "stdout",
     "output_type": "stream",
     "text": [
      "12345\n"
     ]
    }
   ],
   "source": [
    "# Here, x = myClass creates an instance of the class myClass.\n",
    "# x.i is a valid attribute reference returning an integer.\n",
    "x = myClass()\n",
    "print(x.i)"
   ]
  },
  {
   "cell_type": "markdown",
   "metadata": {},
   "source": [
    "**3) To  create multiple objects of the same class.**"
   ]
  },
  {
   "cell_type": "markdown",
   "metadata": {},
   "source": [
    "You can create multiple different objects of the same class. They can have the same variable defined in the class. Each object has independent copies of variables defined in the class. Let us create another object with the same class name and change the string of the variable."
   ]
  },
  {
   "cell_type": "code",
   "execution_count": 53,
   "metadata": {},
   "outputs": [
    {
     "name": "stdout",
     "output_type": "stream",
     "text": [
      "This is the first one.\n",
      "This is the second one.\n"
     ]
    }
   ],
   "source": [
    "class myClass:\n",
    "    var = \"This is the first one.\"\n",
    "    \n",
    "object1 = myClass()\n",
    "object2 = myClass()\n",
    "\n",
    "object2.var = \"This is the second one.\"\n",
    "\n",
    "# Printing both the values.\n",
    "print(object1.var)\n",
    "print(object2.var)"
   ]
  },
  {
   "cell_type": "markdown",
   "metadata": {},
   "source": [
    "**4) To access object functions.**"
   ]
  },
  {
   "cell_type": "markdown",
   "metadata": {},
   "source": [
    "You can access functions within the class by creating an object instance of the class. It works similar to accessing variables from the class. Here is an example of a function within a class. Here, the \"self\" parameter acts as a constructor of the class and is used to access the other variables of the class."
   ]
  },
  {
   "cell_type": "code",
   "execution_count": 56,
   "metadata": {},
   "outputs": [
    {
     "name": "stdout",
     "output_type": "stream",
     "text": [
      "This is a function of the class.\n"
     ]
    }
   ],
   "source": [
    "class myClass:\n",
    "    var = \"This is a variable of the class.\"\n",
    "    \n",
    "    def function(self):\n",
    "        print(\"This is a function of the class.\")\n",
    "        \n",
    "object1 = myClass()\n",
    "\n",
    "object1.function()"
   ]
  },
  {
   "cell_type": "markdown",
   "metadata": {},
   "source": [
    "**5) The _init_() function.**"
   ]
  },
  {
   "cell_type": "markdown",
   "metadata": {},
   "source": [
    "The __init__() function is a built-in python function. All classes in python have the __init__() function. When a class gets initialized, the __init__() function gets executed. Let us use the __init__() function to assign appropriate values to the properties of the object."
   ]
  },
  {
   "cell_type": "code",
   "execution_count": 72,
   "metadata": {},
   "outputs": [
    {
     "name": "stdout",
     "output_type": "stream",
     "text": [
      "I am willing to buy a Lenovo Yoga 730 black laptop.\n"
     ]
    }
   ],
   "source": [
    "class Electronics:\n",
    "    def __init__(Laptop, brand, model, series, color):\n",
    "        Laptop.brand = brand\n",
    "        Laptop.model = model\n",
    "        Laptop.series = series\n",
    "        Laptop.color = color\n",
    "    \n",
    "s1 = Electronics(\"Lenovo\", \"Yoga\", \"730\", \"black\")\n",
    "\n",
    "print(\"I am willing to buy a \"+s1.brand+\" \"+s1.model+\" \"+s1.series+\" \"+s1.color+\" laptop.\")"
   ]
  },
  {
   "cell_type": "markdown",
   "metadata": {},
   "source": [
    "***"
   ]
  },
  {
   "cell_type": "markdown",
   "metadata": {},
   "source": [
    "# Citations"
   ]
  },
  {
   "cell_type": "markdown",
   "metadata": {},
   "source": [
    "1. https://docs.python.org/3/tutorial/classes.html\n",
    "2. https://www.w3schools.com/python\n",
    "3. https://www.learnpython.org/en/Classes_and_Objects\n",
    "4. https://www.hackerearth.com/practice/python/object-oriented-programming/classes-and-objects-i/tutorial/\n",
    "5. https://www.geeksforgeeks.org/functions-in-python/"
   ]
  },
  {
   "cell_type": "markdown",
   "metadata": {},
   "source": [
    "***"
   ]
  }
 ],
 "metadata": {
  "kernelspec": {
   "display_name": "Python 3",
   "language": "python",
   "name": "python3"
  },
  "language_info": {
   "codemirror_mode": {
    "name": "ipython",
    "version": 3
   },
   "file_extension": ".py",
   "mimetype": "text/x-python",
   "name": "python",
   "nbconvert_exporter": "python",
   "pygments_lexer": "ipython3",
   "version": "3.7.3"
  }
 },
 "nbformat": 4,
 "nbformat_minor": 2
}
